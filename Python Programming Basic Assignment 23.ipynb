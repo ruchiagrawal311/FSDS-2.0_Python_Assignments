{
 "cells": [
  {
   "cell_type": "markdown",
   "id": "17154a16",
   "metadata": {},
   "source": [
    "# Question 1\n",
    "Create a function that takes a number as an argument and returns True or False depending <br>\n",
    "on whether the number is symmetrical or not. A number is symmetrical when it is the same as <br>\n",
    "its reverse. <br>\n",
    "Examples <br>\n",
    "is_symmetrical(7227) ➞ True <br>\n",
    "is_symmetrical(12567) ➞ False <br>\n",
    "is_symmetrical(44444444) ➞ True <br>\n",
    "is_symmetrical(9939) ➞ False <br>\n",
    "is_symmetrical(1112111) ➞ True <br>"
   ]
  },
  {
   "cell_type": "code",
   "execution_count": 1,
   "id": "ca1dbcd1",
   "metadata": {},
   "outputs": [
    {
     "name": "stdout",
     "output_type": "stream",
     "text": [
      "True\n",
      "False\n",
      "True\n",
      "False\n",
      "True\n"
     ]
    }
   ],
   "source": [
    "def is_symmetrical(num):\n",
    "    return str(num) == str(num)[::-1]\n",
    "\n",
    "print(is_symmetrical(7227))  \n",
    "print(is_symmetrical(12567))  \n",
    "print(is_symmetrical(44444444))  \n",
    "print(is_symmetrical(9939))  \n",
    "print(is_symmetrical(1112111))  \n"
   ]
  },
  {
   "cell_type": "markdown",
   "id": "0e9a1378",
   "metadata": {},
   "source": [
    "# Question 2\n",
    "Given a string of numbers separated by a comma and space, return the product of the <br>\n",
    "numbers. <br>\n",
    "Examples <br>\n",
    "multiply_nums(&quot;2, 3&quot;) ➞ 6 <br>\n",
    "multiply_nums(&quot;1, 2, 3, 4&quot;) ➞ 24 <br>\n",
    "multiply_nums(&quot;54, 75, 453, 0&quot;) ➞ 0 <br>\n",
    "multiply_nums(&quot;10, -2&quot;) ➞ -20 <br>"
   ]
  },
  {
   "cell_type": "code",
   "execution_count": 2,
   "id": "19dbe79d",
   "metadata": {},
   "outputs": [
    {
     "name": "stdout",
     "output_type": "stream",
     "text": [
      "6\n",
      "24\n",
      "0\n",
      "-20\n"
     ]
    }
   ],
   "source": [
    "def multiply_nums(nums):\n",
    "    numbers = [int(num) for num in nums.split(', ')]\n",
    "    product = 1\n",
    "    for num in numbers:\n",
    "        product *= num\n",
    "    return product\n",
    "\n",
    "# Example \n",
    "print(multiply_nums(\"2, 3\")) \n",
    "print(multiply_nums(\"1, 2, 3, 4\")) \n",
    "print(multiply_nums(\"54, 75, 453, 0\"))  \n",
    "print(multiply_nums(\"10, -2\"))  \n"
   ]
  },
  {
   "cell_type": "markdown",
   "id": "3328923c",
   "metadata": {},
   "source": [
    "# Question 3\n",
    "Create a function that squares every digit of a number. <br>\n",
    "Examples <br>\n",
    "square_digits(9119) ➞ 811181 <br>\n",
    "square_digits(2483) ➞ 416649 <br>\n",
    "square_digits(3212) ➞ 9414 <br>\n",
    "Notes <br>\n",
    "The function receives an integer and must return an integer. <br>"
   ]
  },
  {
   "cell_type": "code",
   "execution_count": 3,
   "id": "251b9b4a",
   "metadata": {},
   "outputs": [
    {
     "name": "stdout",
     "output_type": "stream",
     "text": [
      "811181\n",
      "416649\n",
      "9414\n"
     ]
    }
   ],
   "source": [
    "def square_digits(num):\n",
    "    result = \"\"\n",
    "    for digit in str(num):\n",
    "        square = int(digit) ** 2\n",
    "        result += str(square)\n",
    "    return int(result)\n",
    "\n",
    "# Example\n",
    "print(square_digits(9119)) \n",
    "print(square_digits(2483))  \n",
    "print(square_digits(3212))  \n"
   ]
  },
  {
   "cell_type": "markdown",
   "id": "e6b6ecbb",
   "metadata": {},
   "source": [
    "# Question 4\n",
    "Create a function that sorts a list and removes all duplicate items from it. <br>\n",
    "Examples <br>\n",
    "setify([1, 3, 3, 5, 5]) ➞ [1, 3, 5] <br>\n",
    "setify([4, 4, 4, 4]) ➞ [4] <br>\n",
    "setify([5, 7, 8, 9, 10, 15]) ➞ [5, 7, 8, 9, 10, 15] <br>\n",
    "setify([3, 3, 3, 2, 1]) ➞ [1, 2, 3] <br>"
   ]
  },
  {
   "cell_type": "code",
   "execution_count": 4,
   "id": "b57fcb10",
   "metadata": {},
   "outputs": [
    {
     "name": "stdout",
     "output_type": "stream",
     "text": [
      "[1, 3, 5]\n",
      "[4]\n",
      "[5, 7, 8, 9, 10, 15]\n",
      "[1, 2, 3]\n"
     ]
    }
   ],
   "source": [
    "def setify(lst):\n",
    "    return sorted(list(set(lst)))\n",
    "\n",
    "# Example test cases\n",
    "print(setify([1, 3, 3, 5, 5]))  \n",
    "print(setify([4, 4, 4, 4])) \n",
    "print(setify([5, 7, 8, 9, 10, 15]))  \n",
    "print(setify([3, 3, 3, 2, 1]))  \n"
   ]
  },
  {
   "cell_type": "markdown",
   "id": "fab7d0e5",
   "metadata": {},
   "source": [
    "# Question 5\n",
    "Create a function that returns the mean of all digits. <br>\n",
    "Examples <br>\n",
    "mean(42) ➞ 3 <br>\n",
    "mean(12345) ➞ 3 <br>\n",
    "mean(666) ➞ 6 <br>\n",
    "Notes <br>\n",
    " The mean of all digits is the sum of digits / how many digits there are (e.g. mean of digits in <br>\n",
    "512 is (5+1+2)/3(number of digits) = 8/3=2). <br>\n",
    " The mean will always be an integer. <br>"
   ]
  },
  {
   "cell_type": "code",
   "execution_count": 5,
   "id": "31cbcb99",
   "metadata": {},
   "outputs": [
    {
     "name": "stdout",
     "output_type": "stream",
     "text": [
      "3\n",
      "3\n",
      "6\n"
     ]
    }
   ],
   "source": [
    "def mean(num):\n",
    "    digits = [int(digit) for digit in str(num)]\n",
    "    return sum(digits) // len(digits)\n",
    "\n",
    "# Examples\n",
    "print(mean(42)) \n",
    "print(mean(12345))  \n",
    "print(mean(666))  \n"
   ]
  }
 ],
 "metadata": {
  "kernelspec": {
   "display_name": "Python 3 (ipykernel)",
   "language": "python",
   "name": "python3"
  },
  "language_info": {
   "codemirror_mode": {
    "name": "ipython",
    "version": 3
   },
   "file_extension": ".py",
   "mimetype": "text/x-python",
   "name": "python",
   "nbconvert_exporter": "python",
   "pygments_lexer": "ipython3",
   "version": "3.9.13"
  }
 },
 "nbformat": 4,
 "nbformat_minor": 5
}
