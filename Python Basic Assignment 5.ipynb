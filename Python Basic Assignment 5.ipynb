{
 "cells": [
  {
   "cell_type": "markdown",
   "id": "24b5334b",
   "metadata": {},
   "source": [
    "#  Assignment 5"
   ]
  },
  {
   "cell_type": "markdown",
   "id": "081173cb",
   "metadata": {},
   "source": [
    "### 1. What does an empty dictionary's code look like?"
   ]
  },
  {
   "cell_type": "markdown",
   "id": "48810aa3",
   "metadata": {},
   "source": [
    "**Ans 01:**\n",
    "\n",
    "\n",
    "A Dictionary is created using {} signs with we enclose our key: value pairs. And when we don't put anything in the curly brackets that becomes a empty dictionary."
   ]
  },
  {
   "cell_type": "code",
   "execution_count": 1,
   "id": "684ef637",
   "metadata": {},
   "outputs": [
    {
     "name": "stdout",
     "output_type": "stream",
     "text": [
      "<class 'dict'>\n"
     ]
    }
   ],
   "source": [
    "my_dict = {}\n",
    "print(type(my_dict))"
   ]
  },
  {
   "cell_type": "markdown",
   "id": "70882aad",
   "metadata": {},
   "source": [
    "### 2. What is the value of a dictionary value with the key 'foo' and the value 42?"
   ]
  },
  {
   "cell_type": "markdown",
   "id": "e51f43c5",
   "metadata": {},
   "source": [
    "**Ans 02:**\n",
    "\n",
    "dictionary is an unordered collection of key-value pairs, where each key is unique. To access the value associated with a specific key in a dictionary, you can use the square bracket notation with the key as the index."
   ]
  },
  {
   "cell_type": "code",
   "execution_count": 2,
   "id": "7dbb33f5",
   "metadata": {},
   "outputs": [
    {
     "name": "stdout",
     "output_type": "stream",
     "text": [
      "42\n"
     ]
    }
   ],
   "source": [
    "my_dict = {'foo': 42}\n",
    "x = my_dict['foo']\n",
    "print(x)"
   ]
  },
  {
   "cell_type": "markdown",
   "id": "58cbe49b",
   "metadata": {},
   "source": [
    "### 3. What is the most significant distinction between a dictionary and a list?\n"
   ]
  },
  {
   "cell_type": "markdown",
   "id": "c003588c",
   "metadata": {},
   "source": [
    "**Ans:**\n",
    "    \n",
    "The items stored in a dictionary are unordered, while the items in a list are ordered."
   ]
  },
  {
   "cell_type": "markdown",
   "id": "81f92f39",
   "metadata": {},
   "source": [
    "### 4. What happens if you try to access spam['foo'] if spam is {'bar': 100}?\n"
   ]
  },
  {
   "cell_type": "code",
   "execution_count": 3,
   "id": "a6a9ac4f",
   "metadata": {},
   "outputs": [
    {
     "ename": "KeyError",
     "evalue": "'foo'",
     "output_type": "error",
     "traceback": [
      "\u001b[1;31m---------------------------------------------------------------------------\u001b[0m",
      "\u001b[1;31mKeyError\u001b[0m                                  Traceback (most recent call last)",
      "\u001b[1;32m~\\AppData\\Local\\Temp\\ipykernel_2496\\1034327641.py\u001b[0m in \u001b[0;36m<module>\u001b[1;34m\u001b[0m\n\u001b[0;32m      2\u001b[0m \u001b[1;33m\u001b[0m\u001b[0m\n\u001b[0;32m      3\u001b[0m \u001b[0mspam\u001b[0m \u001b[1;33m=\u001b[0m \u001b[1;33m{\u001b[0m\u001b[1;34m'bar'\u001b[0m\u001b[1;33m:\u001b[0m\u001b[1;36m100\u001b[0m\u001b[1;33m}\u001b[0m\u001b[1;33m\u001b[0m\u001b[1;33m\u001b[0m\u001b[0m\n\u001b[1;32m----> 4\u001b[1;33m \u001b[0mprint\u001b[0m\u001b[1;33m(\u001b[0m\u001b[0mspam\u001b[0m\u001b[1;33m[\u001b[0m\u001b[1;34m'foo'\u001b[0m\u001b[1;33m]\u001b[0m\u001b[1;33m)\u001b[0m  \u001b[1;31m# Error because there is no key as 'foo' exists in the database\u001b[0m\u001b[1;33m\u001b[0m\u001b[1;33m\u001b[0m\u001b[0m\n\u001b[0m",
      "\u001b[1;31mKeyError\u001b[0m: 'foo'"
     ]
    }
   ],
   "source": [
    "# Ans:\n",
    "\n",
    "spam = {'bar':100}\n",
    "print(spam['foo'])  # Error because there is no key as 'foo' exists in the database"
   ]
  },
  {
   "cell_type": "code",
   "execution_count": 4,
   "id": "f9eff75c",
   "metadata": {},
   "outputs": [],
   "source": [
    "#To avoid error\n",
    "if 'foo' in spam:\n",
    "    value = spam['foo']\n",
    "else:\n",
    "    # Handle the case when the key is not present\n",
    "    value = None \n"
   ]
  },
  {
   "cell_type": "markdown",
   "id": "4fe46bab",
   "metadata": {},
   "source": [
    "### 5. If a dictionary is stored in spam, what is the difference between the expressions 'cat' in spam and 'cat' in spam.keys()?\n",
    "\n"
   ]
  },
  {
   "cell_type": "code",
   "execution_count": null,
   "id": "c6d7e2f1",
   "metadata": {},
   "outputs": [],
   "source": [
    "# **Ans:**\n",
    "    \n",
    "spam = {'cat': 'meow', 'dog': 'bark'}\n",
    "x = spam.keys() # It gives list of all the keys in dictionary\n",
    "print(x)"
   ]
  },
  {
   "cell_type": "code",
   "execution_count": null,
   "id": "8ee92609",
   "metadata": {},
   "outputs": [],
   "source": [
    "# method 1:\n",
    "'cat' in spam # It's more efficient.\n"
   ]
  },
  {
   "cell_type": "code",
   "execution_count": null,
   "id": "6fa89cd4",
   "metadata": {},
   "outputs": [],
   "source": [
    "# method 2:\n",
    "'cat' in x # Here it first creates list of all the keys then checks if the key is present in  th"
   ]
  },
  {
   "cell_type": "markdown",
   "id": "df4fc9df",
   "metadata": {},
   "source": [
    "Both ways we can check if key is present in the dictionary or not. Main difference is second methods creates list of all the keys in the dictionary."
   ]
  },
  {
   "cell_type": "markdown",
   "id": "c0962b64",
   "metadata": {},
   "source": [
    "### 6. If a dictionary is stored in spam, what is the difference between the expressions 'cat' in spam and 'cat' in spam.values()?\n"
   ]
  },
  {
   "cell_type": "markdown",
   "id": "d39a16d6",
   "metadata": {},
   "source": [
    "**Ans:**\n",
    "    \n",
    "For `spam.values()` we get list of all the values so as 'cat' is the key it will not be present in this list. We will have it's value instead as 'meow'."
   ]
  },
  {
   "cell_type": "code",
   "execution_count": null,
   "id": "8fbe0342",
   "metadata": {},
   "outputs": [],
   "source": [
    "\n",
    "spam.values()"
   ]
  },
  {
   "cell_type": "markdown",
   "id": "31dd30d1",
   "metadata": {},
   "source": [
    "### 7. What is a shortcut for the following code?\n",
    "    if 'color' not in spam:\n",
    "    spam['color'] = 'black'"
   ]
  },
  {
   "cell_type": "markdown",
   "id": "c35bf05f",
   "metadata": {},
   "source": [
    "**Ans 07:**\n",
    "\n",
    "\n",
    "The setdefault() method takes two arguments: the first argument is the key that you want to check for existence, and the second argument is the default value that you want to set for the key if it doesn't exist. If the key already exists in the dictionary, setdefault() returns its corresponding value. If the key is not in the dictionary, setdefault() adds the key to the dictionary with the default value and returns that value."
   ]
  },
  {
   "cell_type": "code",
   "execution_count": null,
   "id": "24958314",
   "metadata": {},
   "outputs": [],
   "source": [
    "product = {'name': 'Laptop', 'price': 35000}\n",
    "product.setdefault('color', 'black') # Checks if key is available, if not then adds to the dictionary\n",
    "print(product)"
   ]
  },
  {
   "cell_type": "markdown",
   "id": "a17c2cd8",
   "metadata": {},
   "source": [
    "### 8. How do you \"pretty print\" dictionary values using which module and function?\n"
   ]
  },
  {
   "cell_type": "markdown",
   "id": "576dacf3",
   "metadata": {},
   "source": [
    "**Ans:**\n",
    "\n",
    "by using pprint module from python we can print our dictionaries in good formats."
   ]
  },
  {
   "cell_type": "code",
   "execution_count": null,
   "id": "97e0b8c6",
   "metadata": {},
   "outputs": [],
   "source": [
    "import pprint\n",
    "\n",
    "my_dict = {'name': 'John',        \n",
    "           'age': 30,              \n",
    "           'city': 'New York'}\n",
    "pprint.pprint(my_dict)"
   ]
  }
 ],
 "metadata": {
  "kernelspec": {
   "display_name": "Python 3 (ipykernel)",
   "language": "python",
   "name": "python3"
  },
  "language_info": {
   "codemirror_mode": {
    "name": "ipython",
    "version": 3
   },
   "file_extension": ".py",
   "mimetype": "text/x-python",
   "name": "python",
   "nbconvert_exporter": "python",
   "pygments_lexer": "ipython3",
   "version": "3.9.13"
  }
 },
 "nbformat": 4,
 "nbformat_minor": 5
}
