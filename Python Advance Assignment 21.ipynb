{
 "cells": [
  {
   "cell_type": "markdown",
   "id": "0b7c11f6",
   "metadata": {},
   "source": [
    "# Q1. What is a probability distribution, exactly? If the values are meant to be random, how can you predict them at all?"
   ]
  },
  {
   "cell_type": "markdown",
   "id": "d3201bff",
   "metadata": {},
   "source": [
    "<b>Ans:</b> A probability distribution is a mathematical function that describes the likelihood of different outcomes or events in a particular set of events or variables. It provides information about the probabilities associated with each possible outcome.\n",
    "It tells us which values a random variable is most likely to take on and which values are less likely. Based on the previous data and the occurences of the random event, we can predict the outcome in terms of probabilities.\n",
    "Although the values generated from a probability distribution are not predictable on an individual basis, the distribution allows us to make predictions about the overall behavior and likelihood of outcomes. By understanding the properties of a probability distribution, such as its shape and parameters, we can gain insights into the range of possible values and their likelihoods. This enables us to make informed predictions and draw statistical inferences based on the distribution's characteristics."
   ]
  },
  {
   "cell_type": "markdown",
   "id": "3c598e13",
   "metadata": {},
   "source": [
    "# Q2. Is there a distinction between true random numbers and pseudo-random numbers, if there is one? Why are the latter considered “good enough”?"
   ]
  },
  {
   "cell_type": "markdown",
   "id": "d144aeb7",
   "metadata": {},
   "source": [
    "<b>Ans</b> : Yes, there is a distinction between true random numbers and pseudo-random numbers.\n",
    "\n",
    "True random numbers are generated from a genuinely random process, such as atmospheric noise, radioactive decay, or other unpredictable physical phenomena. These numbers are considered to be truly random and exhibit no discernible pattern or predictability.\n",
    "\n",
    "On the other hand, pseudo-random numbers are generated using deterministic algorithms. They are not truly random as they are derived from an initial value called a seed and follow a predefined sequence of numbers. The sequence appears random, but it is entirely determined by the algorithm and seed.\n",
    "\n",
    "Pseudo-random numbers are considered \"good enough\" for many applications because they exhibit properties that resemble true randomness. They pass various statistical tests for randomness and exhibit desirable properties such as uniform distribution, independence, and repeatability. These properties make pseudo-random numbers suitable for most practical purposes, including simulations, statistical analysis, cryptography, and computer graphics.\n",
    "\n",
    "While pseudo-random numbers are not truly random, they are computationally efficient to generate and can approximate randomness well enough for most applications. True random numbers, on the other hand, are more challenging to generate, often require specialized hardware, and may not be necessary in many situations where pseudo-randomness is sufficient."
   ]
  },
  {
   "cell_type": "markdown",
   "id": "8f716bb1",
   "metadata": {},
   "source": [
    "# Q3. What are the two main factors that influence the behaviour of a &quot;normal&quot; probability distribution?"
   ]
  },
  {
   "cell_type": "markdown",
   "id": "e6150048",
   "metadata": {},
   "source": [
    "<b>Ans: </b>Normal Probability Distribution are influenced by two factors mean and the variance."
   ]
  },
  {
   "cell_type": "markdown",
   "id": "d60eacf2",
   "metadata": {},
   "source": [
    "# Q4. Provide a real-life example of a normal distribution."
   ]
  },
  {
   "cell_type": "markdown",
   "id": "c9bb90dc",
   "metadata": {},
   "source": [
    "<b>Ans:</b> A Real-life example of a normal distribution are heights of adult females in population."
   ]
  },
  {
   "cell_type": "markdown",
   "id": "c1f425cc",
   "metadata": {},
   "source": [
    "# Q5. In the short term, how can you expect a probability distribution to behave? What do you think will happen as the number of trials grows?"
   ]
  },
  {
   "cell_type": "markdown",
   "id": "f2e02002",
   "metadata": {},
   "source": [
    "<b>Ans: </b> In the short term, the behavior of a probability distribution can be unpredictable and may not necessarily conform to the expected probabilities. However, as the number of trials grows, the distribution tends to converge towards its theoretical probabilities. This is known as the law of large numbers, which states that the relative frequency of an event will approach its true probability as the number of trials increases. In other words, with more trials, the observed outcomes will align more closely with the expected probabilities of the distribution. Variance will decrease with number of trials"
   ]
  },
  {
   "cell_type": "markdown",
   "id": "a258aa59",
   "metadata": {},
   "source": [
    "# Q6. What kind of object can be shuffled by using random.shuffle?"
   ]
  },
  {
   "cell_type": "markdown",
   "id": "e7bc9cf3",
   "metadata": {},
   "source": [
    "<b>Ans: </b>lists (list), strings (str) and tuples (tuple) objects can be shuffled by using random.shuffle."
   ]
  },
  {
   "cell_type": "markdown",
   "id": "86342354",
   "metadata": {},
   "source": [
    "# Q7. Describe the math package&#39;s general categories of functions."
   ]
  },
  {
   "cell_type": "markdown",
   "id": "00827384",
   "metadata": {},
   "source": [
    "<b>Ans:</b> The Math package's general categories of functions are:\n",
    "\n",
    "Trigonometric functions <br>\n",
    "Quadratic functions <br>\n",
    "Exponential functions <br>\n",
    "Hyperbolic functions <br>\n",
    "Periodic functions <br>\n",
    "Arithmetic functions <br>\n",
    "Logarithimic functions <br>\n",
    "Conversions to Integer"
   ]
  },
  {
   "cell_type": "markdown",
   "id": "9f47d383",
   "metadata": {},
   "source": [
    "# Q8. What is the relationship between exponentiation and logarithms?"
   ]
  },
  {
   "cell_type": "markdown",
   "id": "6dea3094",
   "metadata": {},
   "source": [
    "<b>Ans: </b>Exponentiation and logarithms are inversely related."
   ]
  },
  {
   "cell_type": "markdown",
   "id": "fa0c0d37",
   "metadata": {},
   "source": [
    "# Q9. What are the three logarithmic functions that Python supports?"
   ]
  },
  {
   "cell_type": "markdown",
   "id": "89c7d268",
   "metadata": {},
   "source": [
    "<b>Ans: </b>The Three Logarithmic Functions that Python supports are:\n",
    "\n",
    "log2(x) - logarithmic value of x to base 2 <br>\n",
    "log10(x) - logarithmic value of x to base 10 <br>\n",
    "log1p(a) - This function is used to compute logarithm(1+a) ."
   ]
  }
 ],
 "metadata": {
  "kernelspec": {
   "display_name": "Python 3 (ipykernel)",
   "language": "python",
   "name": "python3"
  },
  "language_info": {
   "codemirror_mode": {
    "name": "ipython",
    "version": 3
   },
   "file_extension": ".py",
   "mimetype": "text/x-python",
   "name": "python",
   "nbconvert_exporter": "python",
   "pygments_lexer": "ipython3",
   "version": "3.9.13"
  }
 },
 "nbformat": 4,
 "nbformat_minor": 5
}
