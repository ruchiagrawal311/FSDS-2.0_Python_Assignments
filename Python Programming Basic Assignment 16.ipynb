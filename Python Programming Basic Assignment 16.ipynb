{
 "cells": [
  {
   "cell_type": "markdown",
   "id": "19ab2d1f",
   "metadata": {},
   "source": [
    "# Question1. Write a function that stutters a word as if someone is struggling to read it. \n",
    " \n",
    "The first two letters are repeated twice with an ellipsis ... and space after each, and then the <br>\n",
    "word is pronounced with a question mark ?. <br> \n",
    "\n",
    "<b>Examples:</b> <br>\n",
    "\n",
    "stutter(&quot;incredible&quot;) ➞ &quot;in... in... incredible?&quot; <br>\n",
    "stutter(&quot;enthusiastic&quot;) ➞ &quot;en... en... enthusiastic?&quot; <br>\n",
    "stutter(&quot;outstanding&quot;) ➞ &quot;ou... ou... outstanding?&quot; <br>\n",
    "\n",
    "Hint :- Assume all input is in lower case and at least two characters long. <br>"
   ]
  },
  {
   "cell_type": "code",
   "execution_count": 1,
   "id": "d16bffd6",
   "metadata": {},
   "outputs": [
    {
     "name": "stdout",
     "output_type": "stream",
     "text": [
      "Enter the Word :INCREDIBLE\n",
      "INCREDIBLE ➞ IN... IN... INCREDIBLE?\n",
      "Enter the Word :enthusiastic\n",
      "enthusiastic ➞ en... en... enthusiastic?\n",
      "Enter the Word :outstanding\n",
      "outstanding ➞ ou... ou... outstanding?\n"
     ]
    }
   ],
   "source": [
    "def stutterWord():\n",
    "    in_string = input('Enter the Word :')\n",
    "    out_string = in_string.replace(in_string[0:2],((in_string[0:2]+'... ')*2)+ in_string[0:2])  +'?'\n",
    "    print(f'{in_string} ➞ {out_string}')\n",
    "\n",
    "for i in range(3):\n",
    "    stutterWord()"
   ]
  },
  {
   "cell_type": "markdown",
   "id": "423f3bab",
   "metadata": {},
   "source": [
    "# Question 2.Create a function that takes an angle in radians and returns the corresponding <br>\n",
    "angle in degrees rounded to one decimal place. <br>\n",
    "Examples <br>\n",
    "radians_to_degrees(1) ➞ 57.3 <br>\n",
    "radians_to_degrees(20) ➞ 1145.9 <br>\n",
    "radians_to_degrees(50) ➞ 2864.8 <br>"
   ]
  },
  {
   "cell_type": "code",
   "execution_count": 2,
   "id": "3d08552c",
   "metadata": {},
   "outputs": [
    {
     "name": "stdout",
     "output_type": "stream",
     "text": [
      "Enter the angle in Radians: 1\n",
      "1 radian(s) ➞ 57.3 degrees\n",
      "Enter the angle in Radians: 20\n",
      "20 radian(s) ➞ 1145.9 degrees\n",
      "Enter the angle in Radians: 50\n",
      "50 radian(s) ➞ 2864.8 degrees\n"
     ]
    }
   ],
   "source": [
    "import math\n",
    "def radianToDegree():\n",
    "    in_num = int(input('Enter the angle in Radians: '))\n",
    "    out_num = (180/math.pi)*in_num\n",
    "    print(f'{in_num} radian(s) ➞ {out_num:.1f} degrees')\n",
    "\n",
    "for x in range(3):\n",
    "    radianToDegree()"
   ]
  },
  {
   "cell_type": "markdown",
   "id": "df1d6f1b",
   "metadata": {},
   "source": [
    "# Question 3. In this challenge, establish if a given integer num is a Curzon number. If 1 plus <br>\n",
    "2 elevated to num is exactly divisible by 1 plus 2 multiplied by num, then num is a Curzon <br>\n",
    "number. <br>\n",
    "Given a non-negative integer num, implement a function that returns True if num is a Curzon <br>\n",
    "number, or False otherwise. <br>\n",
    "Examples <br>\n",
    "is_curzon(5) ➞ True <br>\n",
    "# 2 ** 5 + 1 = 33 <br>\n",
    "# 2 * 5 + 1 = 11 <br>\n",
    "# 33 is a multiple of 11 <br>\n",
    "is_curzon(10) ➞ False <br>\n",
    "# 2 ** 10 + 1 = 1025 <br> \n",
    "# 2 * 10 + 1 = 21 <br>\n",
    "# 1025 is not a multiple of 21 <br>\n",
    "is_curzon(14) ➞ True <br>\n",
    "# 2 ** 14 + 1 = 16385 <br>\n",
    "# 2 * 14 + 1 = 29 <br>\n",
    "# 16385 is a multiple of 29 <br> "
   ]
  },
  {
   "cell_type": "code",
   "execution_count": 3,
   "id": "42100eb1",
   "metadata": {},
   "outputs": [
    {
     "name": "stdout",
     "output_type": "stream",
     "text": [
      "Enter a number: 5\n",
      "5 is a Curzon Number\n",
      "Enter a number: 10\n",
      "10 is Not a Curzon Number\n",
      "Enter a number: 14\n",
      "14 is a Curzon Number\n",
      "Enter a number: 4\n",
      "4 is Not a Curzon Number\n"
     ]
    }
   ],
   "source": [
    "def checkCurzon():\n",
    "    in_num = int(input(\"Enter a number: \"))\n",
    "    if (pow(2,in_num)+1)%((2*in_num)+1) == 0:\n",
    "        print(f'{in_num} is a Curzon Number')\n",
    "    else:\n",
    "        print(f'{in_num} is Not a Curzon Number')\n",
    "\n",
    "for x in range(4):\n",
    "    checkCurzon()"
   ]
  },
  {
   "cell_type": "markdown",
   "id": "30fbe997",
   "metadata": {},
   "source": [
    "# Question 4.Given the side length x find the area of a hexagon. <br>\n",
    "\n",
    "Examples <br>\n",
    "area_of_hexagon(1) ➞ 2.6 <br>\n",
    "area_of_hexagon(2) ➞ 10.4 <br>  \n",
    "area_of_hexagon(3) ➞ 23.4 <br>"
   ]
  },
  {
   "cell_type": "code",
   "execution_count": 4,
   "id": "ecde2b96",
   "metadata": {},
   "outputs": [
    {
     "name": "stdout",
     "output_type": "stream",
     "text": [
      "Enter the side length of a Hexagon: 1\n",
      "Area for Hexagon of sidelength 1 ➞ 2.6\n",
      "Enter the side length of a Hexagon: 2\n",
      "Area for Hexagon of sidelength 2 ➞ 10.4\n",
      "Enter the side length of a Hexagon: 3\n",
      "Area for Hexagon of sidelength 3 ➞ 23.4\n"
     ]
    }
   ],
   "source": [
    "import math\n",
    "def areaOfHexagon():\n",
    "    in_num = int(input('Enter the side length of a Hexagon: '))\n",
    "    out_num = ((3*math.sqrt(3))/2)*(pow(in_num,2))\n",
    "    print(f'Area for Hexagon of sidelength {in_num} ➞ {out_num:.1f}')\n",
    "    \n",
    "for x in range(3):\n",
    "    areaOfHexagon()"
   ]
  },
  {
   "cell_type": "markdown",
   "id": "169c5d88",
   "metadata": {},
   "source": [
    "# Question 5. Create a function that returns a base-2 (binary) representation of a base-10 <br>\n",
    "(decimal) string number. To convert is simple: ((2) means base-2 and (10) means base-10) <br>\n",
    "010101001(2) = 1 + 8 + 32 + 128. <br>\n",
    "Going from right to left, the value of the most right bit is 1, now from that every bit to the left <br>\n",
    "will be x2 the value, value of an 8 bit binary numbers are (256, 128, 64, 32, 16, 8, 4, 2, 1). <br>\n",
    "Examples <br>\n",
    "binary(1) ➞ &quot;1&quot; <br>\n",
    "# 1*1 = 1 <br>\n",
    "binary(5) ➞ &quot;101&quot; <br>\n",
    "# 1*1 + 1*4 = 5 <br>\n",
    "binary(10) ➞ &quot;1010&quot; <br>\n",
    "# 1*2 + 1*8 = 10 <br>"
   ]
  },
  {
   "cell_type": "code",
   "execution_count": 6,
   "id": "29ccbf29",
   "metadata": {},
   "outputs": [
    {
     "name": "stdout",
     "output_type": "stream",
     "text": [
      "1\n",
      "101\n",
      "1010\n"
     ]
    }
   ],
   "source": [
    "def binary(decimal):\n",
    "    if decimal == 0:\n",
    "        return \"0\"\n",
    "    \n",
    "    binary_str = \"\"\n",
    "    while decimal > 0:\n",
    "        binary_str = str(decimal % 2) + binary_str\n",
    "        decimal //= 2\n",
    "    \n",
    "    return binary_str\n",
    "# Example\n",
    "print(binary(1))  \n",
    "print(binary(5))  \n",
    "print(binary(10))\n"
   ]
  }
 ],
 "metadata": {
  "kernelspec": {
   "display_name": "Python 3 (ipykernel)",
   "language": "python",
   "name": "python3"
  },
  "language_info": {
   "codemirror_mode": {
    "name": "ipython",
    "version": 3
   },
   "file_extension": ".py",
   "mimetype": "text/x-python",
   "name": "python",
   "nbconvert_exporter": "python",
   "pygments_lexer": "ipython3",
   "version": "3.9.13"
  }
 },
 "nbformat": 4,
 "nbformat_minor": 5
}
