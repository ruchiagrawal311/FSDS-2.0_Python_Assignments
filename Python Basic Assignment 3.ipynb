{
 "cells": [
  {
   "cell_type": "markdown",
   "id": "aec4c2f4",
   "metadata": {},
   "source": [
    "# Assignment 3"
   ]
  },
  {
   "cell_type": "markdown",
   "id": "9a22c699",
   "metadata": {},
   "source": [
    "### 1. Why are functions advantageous to have in your programs?"
   ]
  },
  {
   "cell_type": "markdown",
   "id": "46ed2064",
   "metadata": {},
   "source": [
    "**Ans:** Functions reduce the need for duplicate code. This makes programs shorter, easier to read, and easier to update. The main advantage of functions is code Reusability. so we can easily use that code also"
   ]
  },
  {
   "cell_type": "markdown",
   "id": "7c66ddfd",
   "metadata": {},
   "source": [
    "### 2. When does the code in a function run: when it's specified or when it's called?"
   ]
  },
  {
   "cell_type": "markdown",
   "id": "3a315438",
   "metadata": {},
   "source": [
    "**Ans:** The code in a function executes when we need to call the function, not when the function is defined.\n",
    " We also need to give required parameters if needed."
   ]
  },
  {
   "cell_type": "markdown",
   "id": "e620364a",
   "metadata": {},
   "source": [
    "### 3. What statement creates a function?"
   ]
  },
  {
   "cell_type": "code",
   "execution_count": 24,
   "id": "7ce1d5ec",
   "metadata": {},
   "outputs": [
    {
     "data": {
      "text/plain": [
       "100"
      ]
     },
     "execution_count": 24,
     "metadata": {},
     "output_type": "execute_result"
    }
   ],
   "source": [
    "# Ans.3\n",
    "\n",
    "def multiply(a,b): # using def we can create a function.\n",
    "    return a*b\n",
    "multiply(10,10)"
   ]
  },
  {
   "cell_type": "markdown",
   "id": "4222d97c",
   "metadata": {},
   "source": [
    "### 4. What is the difference between a function and a function call?"
   ]
  },
  {
   "cell_type": "markdown",
   "id": "66f3b039",
   "metadata": {},
   "source": [
    "**Ans:**\n",
    "    \n",
    "Function: The function is a block of code that we write inside a def statement.\n",
    "Function call: The function call is a method that we use to run the code within the function."
   ]
  },
  {
   "cell_type": "markdown",
   "id": "2be6efae",
   "metadata": {},
   "source": [
    "### 5. How many global scopes are there in a Python program? How many local scopes?"
   ]
  },
  {
   "cell_type": "markdown",
   "id": "ad5f932b",
   "metadata": {},
   "source": [
    "**Ans:**\n",
    "    \n",
    "Variables that are defined inside a function body have a local scope, and those defined outside have a global scope. This means that local variables can be accessed only inside the function in which they are declared, whereas global variables can be accessed throughout the program body by all functions."
   ]
  },
  {
   "cell_type": "markdown",
   "id": "6ae76a13",
   "metadata": {},
   "source": [
    "### 6. What happens to variables in a local scope when the function call returns?"
   ]
  },
  {
   "cell_type": "markdown",
   "id": "0fc49879",
   "metadata": {},
   "source": [
    "**Ans:**\n",
    "\n",
    "When a function is called, a new local scope is created, and when the function returns, the local scope is destroyed"
   ]
  },
  {
   "cell_type": "markdown",
   "id": "609550d5",
   "metadata": {},
   "source": [
    "### 7. What is the concept of a return value? Is it possible to have a return value in an expression?"
   ]
  },
  {
   "cell_type": "markdown",
   "id": "cde9b478",
   "metadata": {},
   "source": [
    "**Ans:**\n",
    "\n",
    "Is it possible to have a return value in an expression?\n",
    "If the data type of the expression is different from the function return type, conversion of the return value takes place as if the value of the expression were assigned to an object with the same function return type. For a function of return type void , a return statement is not strictly necessary"
   ]
  },
  {
   "cell_type": "markdown",
   "id": "a3d77482",
   "metadata": {},
   "source": [
    "### 8. If a function does not have a return statement, what is the return value of a call to that function?"
   ]
  },
  {
   "cell_type": "markdown",
   "id": "54451c64",
   "metadata": {},
   "source": [
    "**Ans:**\n",
    "    \n",
    "If a function doesn't specify a return value, it returns None."
   ]
  },
  {
   "cell_type": "code",
   "execution_count": 29,
   "id": "3265a503",
   "metadata": {},
   "outputs": [
    {
     "name": "stdout",
     "output_type": "stream",
     "text": [
      "This is my funtion \n",
      "None\n"
     ]
    }
   ],
   "source": [
    "def fun1():\n",
    "    print(\"This is my funtion \")\n",
    "\n",
    "result = fun1()\n",
    "\n",
    "print(result)"
   ]
  },
  {
   "cell_type": "markdown",
   "id": "57dde5fe",
   "metadata": {},
   "source": [
    "### 9. How do you make a function variable refer to the global variable?"
   ]
  },
  {
   "cell_type": "markdown",
   "id": "b8b04406",
   "metadata": {},
   "source": [
    "**Ans:**\n",
    "    \n",
    "We can access gloabal variable in local scope but we can't access local variable in global scope. And by using global Keyword before the variable name in local scope we can make it accessible even outside of the local scope."
   ]
  },
  {
   "cell_type": "code",
   "execution_count": 30,
   "id": "af1f0739",
   "metadata": {},
   "outputs": [
    {
     "name": "stdout",
     "output_type": "stream",
     "text": [
      "15\n"
     ]
    }
   ],
   "source": [
    "global_variable = 10  # Global variable\n",
    "\n",
    "def my_function():\n",
    "    global global_variable  # Declare the variable as global within the function\n",
    "    global_variable += 5     # Modify the global variable\n",
    "\n",
    "my_function()\n",
    "print(global_variable)  # Output: 15\n"
   ]
  },
  {
   "cell_type": "markdown",
   "id": "2eddfb08",
   "metadata": {},
   "source": [
    "### 10. What is the data type of None?"
   ]
  },
  {
   "cell_type": "markdown",
   "id": "e47ab107",
   "metadata": {},
   "source": [
    "**Ans:**\n",
    "\n",
    "Data type of None is NoneType."
   ]
  },
  {
   "cell_type": "markdown",
   "id": "ca7c21d5",
   "metadata": {},
   "source": [
    "### 11. What does the sentence import areallyourpetsnamederic do?"
   ]
  },
  {
   "cell_type": "markdown",
   "id": "ae75380c",
   "metadata": {},
   "source": [
    "**Ans:**\n",
    "\n",
    "import areallyourpetsnamederic\n",
    "\n",
    "\n",
    "In this case, the areallyourpetsnamederic module does not exist, so the import statement will cause an error. The error message will be something like ModuleNotFoundError: No module named 'areallyourpetsnamederic'"
   ]
  },
  {
   "cell_type": "markdown",
   "id": "17084bbc",
   "metadata": {},
   "source": [
    "### 12. If you had a bacon() feature in a spam module, what would you call it after importing spam?"
   ]
  },
  {
   "cell_type": "markdown",
   "id": "68a34cdc",
   "metadata": {},
   "source": [
    "**Ans:** \n",
    "\n",
    "This function could be called with spam.bacon()."
   ]
  },
  {
   "cell_type": "markdown",
   "id": "6140144a",
   "metadata": {},
   "source": [
    "### 13. What can you do to save a programme from crashing if it encounters an error?"
   ]
  },
  {
   "cell_type": "markdown",
   "id": "21606677",
   "metadata": {},
   "source": [
    "**Ans:**\n",
    "    \n",
    "\n",
    "If an error occurs in a program, we don't want the program to unexpectedly crash on the user. Instead, error handling can be used to notify the user of why the error occurred and gracefully exit the process that caused the error."
   ]
  },
  {
   "cell_type": "markdown",
   "id": "e799dc52",
   "metadata": {},
   "source": [
    "### 14. What is the purpose of the try clause? What is the purpose of the except clause?\n"
   ]
  },
  {
   "cell_type": "markdown",
   "id": "e8771221",
   "metadata": {},
   "source": [
    "**Ans:**\n",
    "    \n",
    "try clause is used to write our code that may produce errors and crash our code.\n",
    "\n",
    "except clause is used to write our code that will be executed when we face an exception in try clause."
   ]
  }
 ],
 "metadata": {
  "kernelspec": {
   "display_name": "Python 3 (ipykernel)",
   "language": "python",
   "name": "python3"
  },
  "language_info": {
   "codemirror_mode": {
    "name": "ipython",
    "version": 3
   },
   "file_extension": ".py",
   "mimetype": "text/x-python",
   "name": "python",
   "nbconvert_exporter": "python",
   "pygments_lexer": "ipython3",
   "version": "3.9.13"
  }
 },
 "nbformat": 4,
 "nbformat_minor": 5
}
