{
 "cells": [
  {
   "cell_type": "markdown",
   "id": "857954a4",
   "metadata": {},
   "source": [
    "# Question 1:\n",
    "Please write a program using generator to print the numbers which can be divisible by 5 and <br>\n",
    "7 between 0 and n in comma separated form while n is input by console. <br>\n",
    "Example: <br>\n",
    "If the following n is given as input to the program: <br>\n",
    "100 <br>\n",
    "Then, the output of the program should be: <br>\n",
    "0,35,70 <br>"
   ]
  },
  {
   "cell_type": "code",
   "execution_count": 1,
   "id": "31459bc5",
   "metadata": {},
   "outputs": [
    {
     "name": "stdout",
     "output_type": "stream",
     "text": [
      "0 35 70 "
     ]
    }
   ],
   "source": [
    "def showDivisible(in_num):\n",
    "    for ele in range(0,in_num):\n",
    "        if (ele%5 == 0) and (ele%7 == 0):\n",
    "            yield ele\n",
    "for ele in showDivisible(100):\n",
    "    print(ele,end=' ')"
   ]
  },
  {
   "cell_type": "markdown",
   "id": "41d23c70",
   "metadata": {},
   "source": [
    "# Question 2:\n",
    "Please write a program using generator to print the even numbers between 0 and n in comma <br>\n",
    "separated form while n is input by console. <br>\n",
    "Example: <br>\n",
    "If the following n is given as input to the program: <br>\n",
    "10 <br>\n",
    "Then, the output of the program should be: <br>\n",
    "0,2,4,6,8,10 <br> "
   ]
  },
  {
   "cell_type": "code",
   "execution_count": 2,
   "id": "65f77595",
   "metadata": {},
   "outputs": [
    {
     "name": "stdout",
     "output_type": "stream",
     "text": [
      "0 2 4 6 8 10 "
     ]
    }
   ],
   "source": [
    "def genEvenNumbers(in_num):\n",
    "    for ele in range(in_num+1):\n",
    "        if ele%2 == 0:\n",
    "            yield ele\n",
    "\n",
    "for ele in genEvenNumbers(10):\n",
    "    print(ele,end=' ')"
   ]
  },
  {
   "cell_type": "markdown",
   "id": "a4240f46",
   "metadata": {},
   "source": [
    "# Question 3:\n",
    "The Fibonacci Sequence is computed based on the following formula: <br>\n",
    "f(n)=0 if n=0 <br>\n",
    "f(n)=1 if n=1 <br>\n",
    "f(n)=f(n-1)+f(n-2) if n&gt;1 <br>\n",
    "Please write a program using list comprehension to print the Fibonacci Sequence in comma <br>\n",
    "separated form with a given n input by console. <br>\n",
    "Example: <br>\n",
    "If the following n is given as input to the program: <br>\n",
    "7 <br>\n",
    "\n",
    "Then, the output of the program should be: <br>\n",
    "0,1,1,2,3,5,8,13 <br> "
   ]
  },
  {
   "cell_type": "code",
   "execution_count": 3,
   "id": "4d025e93",
   "metadata": {},
   "outputs": [
    {
     "name": "stdout",
     "output_type": "stream",
     "text": [
      "[0, 1, 1, 2, 3, 5, 8, 13, 21, 34, 55, 89, 144, 233, 377, 610, 987, 1597, 2584, 4181]\n"
     ]
    }
   ],
   "source": [
    "def genFibonaci(in_num):\n",
    "    if in_num == 0:\n",
    "        return 0\n",
    "    elif in_num == 1:\n",
    "        return 1\n",
    "    else:\n",
    "        return genFibonaci(in_num-1)+genFibonaci(in_num-2)\n",
    "    \n",
    "print([genFibonaci(x) for x in range(20)])"
   ]
  },
  {
   "cell_type": "markdown",
   "id": "66d2815f",
   "metadata": {},
   "source": [
    "# Question 4:\n",
    "Assuming that we have some email addresses in the &quot;username@companyname.com&quot; format, <br>\n",
    "please write program to print the user name of a given email address. Both user names and <br>\n",
    "company names are composed of letters only. <br>\n",
    "Example: <br>\n",
    "If the following email address is given as input to the program: <br>\n",
    "john@google.com <br>\n",
    "Then, the output of the program should be: <br>\n",
    "john <br>"
   ]
  },
  {
   "cell_type": "code",
   "execution_count": 4,
   "id": "59d9a360",
   "metadata": {},
   "outputs": [
    {
     "name": "stdout",
     "output_type": "stream",
     "text": [
      "Enter Email Address(es): john@google.com\n",
      "Username of john@google.com is john\n",
      "Enter Email Address(es): ridhima@gmail.com\n",
      "Username of ridhima@gmail.com is ridhima\n",
      "Enter Email Address(es): \n",
      "Username of  is \n"
     ]
    }
   ],
   "source": [
    "def getUsernames():\n",
    "    in_string = input('Enter Email Address(es): ')\n",
    "    out_string = in_string.split('@')\n",
    "    print(f'Username of {in_string} is {out_string[0]}')\n",
    "\n",
    "for i in range(3):\n",
    "    getUsernames()"
   ]
  },
  {
   "cell_type": "markdown",
   "id": "d1ac7ced",
   "metadata": {},
   "source": [
    "# Question 5:\n",
    "Define a class named Shape and its subclass Square. The Square class has an init function <br>\n",
    "which takes a length as argument. Both classes have a area function which can print the area <br>\n",
    "of the shape where Shape&#39;s area is 0 by default. <br>"
   ]
  },
  {
   "cell_type": "code",
   "execution_count": 5,
   "id": "60324a4f",
   "metadata": {},
   "outputs": [],
   "source": [
    "class Shape:\n",
    "    def __init__(self):\n",
    "        self.area = 0\n",
    "    \n",
    "    def calculate_area(self):\n",
    "        pass\n",
    "\n",
    "\n",
    "class Square(Shape):\n",
    "    def __init__(self, length):\n",
    "        super().__init__()\n",
    "        self.length = length\n",
    "    \n",
    "    def calculate_area(self):\n",
    "        self.area = self.length ** 2\n",
    "        return self.area\n"
   ]
  },
  {
   "cell_type": "code",
   "execution_count": null,
   "id": "384d42a2",
   "metadata": {},
   "outputs": [],
   "source": []
  }
 ],
 "metadata": {
  "kernelspec": {
   "display_name": "Python 3 (ipykernel)",
   "language": "python",
   "name": "python3"
  },
  "language_info": {
   "codemirror_mode": {
    "name": "ipython",
    "version": 3
   },
   "file_extension": ".py",
   "mimetype": "text/x-python",
   "name": "python",
   "nbconvert_exporter": "python",
   "pygments_lexer": "ipython3",
   "version": "3.9.13"
  }
 },
 "nbformat": 4,
 "nbformat_minor": 5
}
