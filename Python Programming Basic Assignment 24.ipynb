{
 "cells": [
  {
   "cell_type": "markdown",
   "id": "8c86fa8f",
   "metadata": {},
   "source": [
    "# Question1\n",
    "Create a function that takes an integer and returns a list from 1 to the given number, where: <br>\n",
    "1. If the number can be divided evenly by 4, amplify it by 10 (i.e. return 10 times the <br>\n",
    "number). <br>\n",
    "2. If the number cannot be divided evenly by 4, simply return the number. <br>\n",
    "Examples <br>\n",
    "amplify(4) ➞ [1, 2, 3, 40] <br>\n",
    "amplify(3) ➞ [1, 2, 3] <br>\n",
    "amplify(25) ➞ [1, 2, 3, 40, 5, 6, 7, 80, 9, 10, 11, 120, 13, 14, 15, 160,\n",
    "17, 18, 19, 200, 21, 22, 23, 240, 25] <br>\n",
    "Notes <br>\n",
    " The given integer will always be equal to or greater than 1. <br>\n",
    " Include the number (see example above). <br>\n",
    " To perform this problem with its intended purpose, try doing it with list <br>\n",
    "comprehensions. If that&#39;s too difficult, just solve the challenge any way you can. <br>"
   ]
  },
  {
   "cell_type": "code",
   "execution_count": 1,
   "id": "6f077889",
   "metadata": {},
   "outputs": [
    {
     "name": "stdout",
     "output_type": "stream",
     "text": [
      "4 ➞ [1, 2, 3, 40]\n",
      "3 ➞ [1, 2, 3]\n",
      "25 ➞ [1, 2, 3, 40, 5, 6, 7, 80, 9, 10, 11, 120, 13, 14, 15, 160, 17, 18, 19, 200, 21, 22, 23, 240, 25]\n"
     ]
    }
   ],
   "source": [
    "def amplify(in_num):\n",
    "    out_list = []\n",
    "    for ele in range(1,in_num+1):\n",
    "        if ele%4 == 0:\n",
    "            out_list.append(ele*10)\n",
    "        else:\n",
    "            out_list.append(ele)\n",
    "    print(f'{in_num} ➞ {out_list}')\n",
    "            \n",
    "amplify(4)\n",
    "amplify(3)\n",
    "amplify(25)"
   ]
  },
  {
   "cell_type": "markdown",
   "id": "1e7e16f6",
   "metadata": {},
   "source": [
    "# Question2\n",
    "Create a function that takes a list of numbers and return the number that&#39;s unique. <br>\n",
    "Examples <br>\n",
    "unique([3, 3, 3, 7, 3, 3]) ➞ 7 <br>\n",
    "unique([0, 0, 0.77, 0, 0]) ➞ 0.77 <br>\n",
    "unique([0, 1, 1, 1, 1, 1, 1, 1]) ➞ 0 <br>\n",
    "Notes <br> \n",
    "Test cases will always have exactly one unique number while all others are the same. <br>"
   ]
  },
  {
   "cell_type": "code",
   "execution_count": 2,
   "id": "b35965a8",
   "metadata": {},
   "outputs": [
    {
     "name": "stdout",
     "output_type": "stream",
     "text": [
      "[3, 3, 3, 7, 3, 3] ➞ 7\n",
      "[0, 0, 0.77, 0, 0] ➞ 0.77\n",
      "[0, 1, 1, 1, 1, 1, 1, 1] ➞ 0\n"
     ]
    }
   ],
   "source": [
    "def unique(in_list):\n",
    "    out_num = ''\n",
    "    for ele in set(in_list):\n",
    "        if in_list.count(ele) == 1:\n",
    "            out_num = ele\n",
    "    print(f'{in_list} ➞ {out_num}')\n",
    "\n",
    "unique([3, 3, 3, 7, 3, 3])\n",
    "unique([0, 0, 0.77, 0, 0])\n",
    "unique([0, 1, 1, 1, 1, 1, 1, 1])"
   ]
  },
  {
   "cell_type": "markdown",
   "id": "706de890",
   "metadata": {},
   "source": [
    "# Question3\n",
    "Your task is to create a Circle constructor that creates a circle with a radius provided by an <br>\n",
    "argument. The circles constructed must have two getters getArea() (PIr^2) and <br>\n",
    "getPerimeter() (2PI*r) which give both respective areas and perimeter (circumference). <br>\n",
    "\n",
    "For help with this class, I have provided you with a Rectangle constructor which you can use <br>\n",
    "as a base example. <br>\n",
    "Examples <br>\n",
    "circy = Circle(11) <br>\n",
    "circy.getArea() <br>\n",
    "# Should return 380.132711084365 <br>\n",
    "circy = Circle(4.44) <br>\n",
    "circy.getPerimeter() <br>\n",
    "# Should return 27.897342763877365 <br>\n",
    "Notes <br>\n",
    "Round results up to the nearest integer. <br>"
   ]
  },
  {
   "cell_type": "code",
   "execution_count": 3,
   "id": "29137e30",
   "metadata": {},
   "outputs": [
    {
     "name": "stdout",
     "output_type": "stream",
     "text": [
      "Radius ➞ 380\n",
      "Perimeter ➞ 28\n"
     ]
    }
   ],
   "source": [
    "import math\n",
    "\n",
    "class Circle:\n",
    "    def __init__(self, radius):\n",
    "        self.radius = radius\n",
    "    def getArea(self):\n",
    "        print(f'Radius ➞ {round(math.pi*self.radius*self.radius)}')\n",
    "    def getPerimeter(self):\n",
    "        print(f'Perimeter ➞ {round(2*math.pi*self.radius)}')\n",
    "    \n",
    "circy = Circle(11)\n",
    "circy.getArea()\n",
    "\n",
    "circy = Circle(4.44)\n",
    "circy.getPerimeter()"
   ]
  },
  {
   "cell_type": "markdown",
   "id": "e0e4fb00",
   "metadata": {},
   "source": [
    "# 4.Create a function that takes a list of strings and return a list, sorted from shortest to longest.\n",
    "Examples: <br>\n",
    "sort_by_length([\"Google\", \"Apple\", \"Microsoft\"]) <br>\n",
    "➞ [\"Apple\", \"Google\", \"Microsoft\"] <br>\n",
    "sort_by_length([\"Leonardo\", \"Michelangelo\", \"Raphael\", \"Donatello\"]) <br>\n",
    "➞ [\"Raphael\", \"Leonardo\", \"Donatello\", \"Michelangelo\"] <br>\n",
    "sort_by_length([\"Turing\", \"Einstein\", \"Jung\"]) <br>\n",
    "➞ [\"Jung\", \"Turing\", \"Einstein\"] <br>\n",
    "\n",
    "Notes: <br>\n",
    "All test cases contain lists with strings of different lengths, so you won't have to deal with multiple strings of the same length."
   ]
  },
  {
   "cell_type": "code",
   "execution_count": 4,
   "id": "b8d33bed",
   "metadata": {},
   "outputs": [
    {
     "name": "stdout",
     "output_type": "stream",
     "text": [
      "['Apple', 'Google', 'Microsoft']\n",
      "['Raphael', 'Leonardo', 'Donatello', 'Michelangelo']\n",
      "['Jung', 'Turing', 'Einstein']\n"
     ]
    }
   ],
   "source": [
    "def sort_by_length(in_list):\n",
    "    print(sorted(in_list,key=len))\n",
    "\n",
    "sort_by_length([\"Google\", \"Apple\", \"Microsoft\"])\n",
    "sort_by_length([\"Leonardo\", \"Michelangelo\", \"Raphael\", \"Donatello\"])\n",
    "sort_by_length([\"Turing\", \"Einstein\", \"Jung\"])"
   ]
  },
  {
   "cell_type": "markdown",
   "id": "90ee910b",
   "metadata": {},
   "source": [
    "# 5.Create a function that validates whether three given integers form a Pythagorean triplet. The sum of the squares of the two smallest integers must equal the square of the largest number to be validated.\n",
    "Examples: <>\n",
    "is_triplet(3, 4, 5) ➞ True # 3² + 4² = 25 # 5² = 25 is_triplet(13, 5, 12) ➞ True # 5² + 12² = 169 # 13² = 169 is_triplet(1, 2, 3) ➞ False # 1² + 2² = 5 # 3² = 9\n",
    "\n",
    "Notes: Numbers may not be given in a sorted order."
   ]
  },
  {
   "cell_type": "code",
   "execution_count": 5,
   "id": "e6962a90",
   "metadata": {},
   "outputs": [
    {
     "name": "stdout",
     "output_type": "stream",
     "text": [
      "(3, 4, 5) ➞ True\n",
      "(3, 4, 5) ➞ True\n",
      "(1, 2, 3) ➞ False\n"
     ]
    }
   ],
   "source": [
    "def is_triplet(a,b,c):\n",
    "    if ((a**2+b**2) == (c**2)):\n",
    "        print(f'{a,b,c} ➞ {True}')\n",
    "    else:\n",
    "        print(f'{a,b,c} ➞ {False}')\n",
    "        \n",
    "is_triplet(3, 4, 5)\n",
    "is_triplet(3, 4, 5)\n",
    "is_triplet(1, 2, 3)"
   ]
  }
 ],
 "metadata": {
  "kernelspec": {
   "display_name": "Python 3 (ipykernel)",
   "language": "python",
   "name": "python3"
  },
  "language_info": {
   "codemirror_mode": {
    "name": "ipython",
    "version": 3
   },
   "file_extension": ".py",
   "mimetype": "text/x-python",
   "name": "python",
   "nbconvert_exporter": "python",
   "pygments_lexer": "ipython3",
   "version": "3.9.13"
  }
 },
 "nbformat": 4,
 "nbformat_minor": 5
}
