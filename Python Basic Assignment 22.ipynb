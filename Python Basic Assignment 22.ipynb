{
 "cells": [
  {
   "cell_type": "markdown",
   "id": "dc9f9553",
   "metadata": {},
   "source": [
    " # 1. What is the result of the code, and explain?\n",
    "\n",
    "&gt;&gt;&gt; X = &#39;iNeuron&#39; <br>\n",
    "&gt;&gt;&gt; def func(): <br>\n",
    "print(X) <br>\n",
    "\n",
    "&gt;&gt;&gt; func()"
   ]
  },
  {
   "cell_type": "code",
   "execution_count": 1,
   "id": "4de3760b",
   "metadata": {},
   "outputs": [
    {
     "name": "stdout",
     "output_type": "stream",
     "text": [
      "iNeuron\n"
     ]
    }
   ],
   "source": [
    "X = 'iNeuron'\n",
    "def func():\n",
    "    print(X)\n",
    "func()"
   ]
  },
  {
   "cell_type": "markdown",
   "id": "cfa1026f",
   "metadata": {},
   "source": [
    "The function func() accesses the global variable X because it is defined outside the function's scope. This behavior is possible because Python allows functions to access variables defined in an outer scope."
   ]
  },
  {
   "cell_type": "markdown",
   "id": "ecffb84f",
   "metadata": {},
   "source": [
    "# 2. What is the result of the code, and explain?\n",
    "\n",
    "&gt;&gt;&gt; X = &#39;iNeuron&#39; <br>\n",
    "&gt;&gt;&gt; def func(): <br>\n",
    "X = &#39;NI!&#39; <br>\n",
    "\n",
    "&gt;&gt;&gt; func() <br>\n",
    "&gt;&gt;&gt; print(X)"
   ]
  },
  {
   "cell_type": "code",
   "execution_count": 3,
   "id": "47b9077c",
   "metadata": {},
   "outputs": [
    {
     "name": "stdout",
     "output_type": "stream",
     "text": [
      "iNeuron\n"
     ]
    }
   ],
   "source": [
    "X = 'iNeuron'\n",
    "def func():\n",
    "    X = 'NI!'\n",
    "func()\n",
    "print(X)"
   ]
  },
  {
   "cell_type": "markdown",
   "id": "cc6c3aab",
   "metadata": {},
   "source": [
    "In this code, the variable X is defined as a global variable with the initial value 'iNeuron'. The function func() is defined and contains an assignment statement X = 'NI!'.\n",
    "\n",
    "When the func() function is called (func()), it creates a new local variable X within the function's scope and assigns it the value 'NI!'. This local variable X shadows the global variable X with the same name.\n",
    "\n",
    "After calling func(), the code executes the print(X) statement, which refers to the global variable X. Since the local variable X within the function is separate and exists only within the function's scope, it does not affect the value of the global variable X. Therefore, the output is the original value of the global variable 'iNeuron'."
   ]
  },
  {
   "cell_type": "markdown",
   "id": "8e3f03a9",
   "metadata": {},
   "source": [
    "# 3. What does this code print, and why?\n",
    "\n",
    "&gt;&gt;&gt; X = &#39;iNeuron&#39; <br>\n",
    "&gt;&gt;&gt; def func(): <br>\n",
    "X = &#39;NI&#39; <br>\n",
    "print(X) <br>\n",
    "\n",
    "&gt;&gt;&gt; func() <br>\n",
    "&gt;&gt;&gt; print(X)"
   ]
  },
  {
   "cell_type": "code",
   "execution_count": 3,
   "id": "5e9cbb5e",
   "metadata": {},
   "outputs": [
    {
     "name": "stdout",
     "output_type": "stream",
     "text": [
      "NI\n",
      "iNeuron\n"
     ]
    }
   ],
   "source": [
    "X = 'iNeuron'\n",
    "def func():\n",
    "    X = 'NI'\n",
    "    print(X)\n",
    "func()\n",
    "print(X)"
   ]
  },
  {
   "cell_type": "markdown",
   "id": "18012f1c",
   "metadata": {},
   "source": [
    "In this code, the variable X is defined as a global variable with the initial value 'iNeuron'. The function func() is defined and contains an assignment statement X = 'NI' and a print statement that prints the value of X within the function's scope.\n",
    "\n",
    "When the func() function is called (func()), it creates a new local variable X within the function's scope and assigns it the value 'NI'. This local variable X shadows the global variable X with the same name.\n",
    "\n",
    "The first print statement print(X) within the function will print the value of the local variable X, which is 'NI'.\n",
    "\n",
    "After calling func(), the code executes the second print statement print(X) outside the function. This print statement refers to the global variable X. Since the local variable X exists only within the function's scope, it does not affect the value of the global variable X. Therefore, the output will be the original value of the global variable 'iNeuron'.\n",
    "\n",
    "Thus, the code prints 'NI' inside the function and 'iNeuron' outside the function."
   ]
  },
  {
   "cell_type": "markdown",
   "id": "923f910e",
   "metadata": {},
   "source": [
    "# 4. What output does this code produce? Why?\n",
    "\n",
    "&gt;&gt;&gt; X = &#39;iNeuron&#39; <br>\n",
    "&gt;&gt;&gt; def func(): <br>\n",
    "global X <br>\n",
    "X = &#39;NI&#39; <br>\n",
    "\n",
    "&gt;&gt;&gt; func()<br>\n",
    "&gt;&gt;&gt; print(X)"
   ]
  },
  {
   "cell_type": "code",
   "execution_count": 4,
   "id": "42a565bd",
   "metadata": {},
   "outputs": [
    {
     "name": "stdout",
     "output_type": "stream",
     "text": [
      "NI\n"
     ]
    }
   ],
   "source": [
    "X = 'iNeuron'\n",
    "def func():\n",
    "    global X\n",
    "    X = 'NI'\n",
    "func()\n",
    "print(X)"
   ]
  },
  {
   "cell_type": "markdown",
   "id": "45583d96",
   "metadata": {},
   "source": [
    "In this code, the variable X is defined as a global variable with the initial value 'iNeuron'. The function func() is defined and contains the global keyword followed by an assignment statement X = 'NI'.\n",
    "\n",
    "When the func() function is called (func()), it explicitly declares X as a global variable using the global keyword. This allows the function to modify the value of the global variable X.\n",
    "\n",
    "Inside the function, the assignment X = 'NI' updates the value of the global variable X to 'NI'.\n",
    "\n",
    "After calling func(), the code executes the print(X) statement, which refers to the global variable X. Since the func() function modified the global variable X using the global keyword, the updated value 'NI' is printed.\n",
    "\n",
    "Therefore, the output of the code is 'NI'. The global keyword enables the function to modify the global variable within its local scope."
   ]
  },
  {
   "cell_type": "markdown",
   "id": "861e9f41",
   "metadata": {},
   "source": [
    "# 5. What about this code—what’s the output, and why?\n",
    "\n",
    "&gt;&gt;&gt; X = &#39;iNeuron&#39; <br>\n",
    "&gt;&gt;&gt; def func(): <br>\n",
    "X = &#39;NI&#39; <br>\n",
    "def nested(): <br>\n",
    "print(X) <br>\n",
    "nested() <br>\n",
    "\n",
    "&gt;&gt;&gt; func() <br>\n",
    "&gt;&gt;&gt; X"
   ]
  },
  {
   "cell_type": "code",
   "execution_count": 4,
   "id": "d0bd5ccf",
   "metadata": {},
   "outputs": [
    {
     "name": "stdout",
     "output_type": "stream",
     "text": [
      "NI\n"
     ]
    },
    {
     "data": {
      "text/plain": [
       "'iNeuron'"
      ]
     },
     "execution_count": 4,
     "metadata": {},
     "output_type": "execute_result"
    }
   ],
   "source": [
    "X = 'iNeuron'\n",
    "def func():\n",
    "    X = 'NI'\n",
    "    def nested():\n",
    "        print(X)\n",
    "    nested()\n",
    "func()\n",
    "X"
   ]
  },
  {
   "cell_type": "markdown",
   "id": "8f379779",
   "metadata": {},
   "source": [
    "In this code, the variable X is defined as a global variable with the initial value 'iNeuron'. The function func() is defined and contains an assignment statement X = 'NI'. Inside func(), there is another nested function called nested(), which contains a print statement that prints the value of X.\n",
    "\n",
    "When the func() function is called (func()), it creates a new local variable X within its own scope and assigns it the value 'NI'. This local variable X shadows the global variable X with the same name.\n",
    "\n",
    "Inside the nested() function, the print statement print(X) refers to the local variable X of the func() function since it is the nearest enclosing scope where X is defined. Therefore, the value of X within nested() is 'NI'.\n",
    "\n",
    "After calling func(), the code executes the second print statement print(X) outside the function. This print statement refers to the global variable X. Since the local variable X within func() does not affect the value of the global variable X, the output will be the original value of the global variable 'iNeuron'.\n",
    "\n",
    "Thus, the code prints 'NI' inside the nested function nested() and 'iNeuron' when accessing the global variable X outside the func() function."
   ]
  },
  {
   "cell_type": "markdown",
   "id": "713aa646",
   "metadata": {},
   "source": [
    "6. How about this code: what is its output in Python 3, and explain?\n",
    "\n",
    "&gt;&gt;&gt; def func():\n",
    "X = &#39;NI&#39; <br>\n",
    "def nested(): <br>\n",
    "nonlocal X <br>\n",
    "X = &#39;Spam&#39; <br>\n",
    "nested() <br>\n",
    "print(X) <br>\n",
    "\n",
    "&gt;&gt;&gt; func()"
   ]
  },
  {
   "cell_type": "code",
   "execution_count": 5,
   "id": "69438427",
   "metadata": {},
   "outputs": [
    {
     "name": "stdout",
     "output_type": "stream",
     "text": [
      "Spam\n"
     ]
    }
   ],
   "source": [
    "def func():\n",
    "    X = 'NI'\n",
    "    def nested():\n",
    "        nonlocal X\n",
    "        X = 'Spam'\n",
    "    nested()\n",
    "    print(X)\n",
    "func()"
   ]
  },
  {
   "cell_type": "markdown",
   "id": "cf0e5a4e",
   "metadata": {},
   "source": [
    "In this code, the func() function defines a local variable X with the value 'NI'. Inside func(), there is another nested function called nested(), which uses the nonlocal keyword to indicate that it wants to modify the value of X from the nearest enclosing scope.\n",
    "\n",
    "The nonlocal keyword allows accessing and modifying variables from the nearest enclosing scope that is not global. In this case, the nearest enclosing scope of the nested() function is the func() function, where X is defined.\n",
    "\n",
    "Inside the nested() function, the statement nonlocal X declares that X is a nonlocal variable, meaning it refers to the X variable in the enclosing func() function. This allows the nested() function to modify the value of X.\n",
    "\n",
    "The line X = 'Spam' assigns the value 'Spam' to the nonlocal variable X, which changes its value from 'NI' to 'Spam'.\n",
    "\n",
    "After modifying the value of X inside the nested() function, the code executes the print(X) statement, which prints the value of X. Since the value of X has been updated to 'Spam' inside the nested() function, the output will be 'Spam'."
   ]
  }
 ],
 "metadata": {
  "kernelspec": {
   "display_name": "Python 3 (ipykernel)",
   "language": "python",
   "name": "python3"
  },
  "language_info": {
   "codemirror_mode": {
    "name": "ipython",
    "version": 3
   },
   "file_extension": ".py",
   "mimetype": "text/x-python",
   "name": "python",
   "nbconvert_exporter": "python",
   "pygments_lexer": "ipython3",
   "version": "3.9.13"
  }
 },
 "nbformat": 4,
 "nbformat_minor": 5
}
