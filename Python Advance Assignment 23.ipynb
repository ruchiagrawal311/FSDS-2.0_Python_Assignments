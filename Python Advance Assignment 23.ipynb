{
 "cells": [
  {
   "cell_type": "markdown",
   "id": "ec04d274",
   "metadata": {},
   "source": [
    "# Q1. If you have any, what are your choices for increasing the comparison between different figures on the same graph?"
   ]
  },
  {
   "cell_type": "markdown",
   "id": "4cc1fe38",
   "metadata": {},
   "source": [
    "<b>Ans: </b>Matplotlib provides a convenient method called subplots for increasing the comparison between different figures on the same graph. Subplots mean a group of smaller axes (where each axis is a plot) that can exist together within a single figure."
   ]
  },
  {
   "cell_type": "markdown",
   "id": "279805f2",
   "metadata": {},
   "source": [
    "# Q2. Can you explain the benefit of compound interest over a higher rate of interest that does not compound after reading this chapter?"
   ]
  },
  {
   "cell_type": "markdown",
   "id": "e8a14485",
   "metadata": {},
   "source": [
    "<b>Ans:</b> Compound interest makes a sum of money grow compoundly than simple interest,because in addition to returns earned on the principal amount, you also earn returns on the returns recevied at the end of every compounding period, which could be daily, monthly, quarterly or annually."
   ]
  },
  {
   "cell_type": "markdown",
   "id": "ba4da572",
   "metadata": {},
   "source": [
    "# Q3. What is a histogram, exactly? Name a numpy method for creating such a graph."
   ]
  },
  {
   "cell_type": "markdown",
   "id": "25edd35a",
   "metadata": {},
   "source": [
    "<b>Ans:</b> Histogram shows total values of X wrt Y. Which means at any particular position of X, Y value shows the total number of counts or data below that value of X. numpy.histogram() is the built in function used to create such a graph."
   ]
  },
  {
   "cell_type": "markdown",
   "id": "4dbae539",
   "metadata": {},
   "source": [
    "# Q4. If necessary, how do you change the aspect ratios between the X and Y axes?"
   ]
  },
  {
   "cell_type": "markdown",
   "id": "6ab21f13",
   "metadata": {},
   "source": [
    "<b>Ans:</b> To change the aspect ratios between the X and Y axes in a plot, we can use the plt.axes().set_aspect() method from the matplotlib.pyplot module in Python. This allows to manually adjust the aspect ratio of the plot by specifying a ratio value."
   ]
  },
  {
   "cell_type": "markdown",
   "id": "6e65a0e9",
   "metadata": {},
   "source": [
    "# Q5. Compare and contrast the three types of array multiplication between two numpy arrays: dot product, outer product, and regular multiplication of two numpy arrays."
   ]
  },
  {
   "cell_type": "markdown",
   "id": "445778b2",
   "metadata": {},
   "source": [
    "<b>Ans: </b> \n",
    "- In regular multiplication values of same index get multiplied.\n",
    "- In dot product there is row wise multiplication, row of one array with column of second array and so on.\n",
    "- In outer multiplication every element of first array a1 will be multiply by every element of other array a2 such such the number of columns will be equal to the number of element in another array a2."
   ]
  },
  {
   "cell_type": "markdown",
   "id": "364b546a",
   "metadata": {},
   "source": [
    "# Q6. Before you buy a home, which numpy function will you use to measure your monthly mortgage payment?"
   ]
  },
  {
   "cell_type": "markdown",
   "id": "f2795edb",
   "metadata": {},
   "source": [
    "<b>Ans: </b> np.pmt(rate, nper, pv) function we will be using in order to calculate monthly mortgage payment before you purchase a house.\n",
    "\n",
    "rate = The periodic interest rate <br>\n",
    "nper = The number of payment periods <br>\n",
    "pv = The total value of the mortgage loan"
   ]
  },
  {
   "cell_type": "markdown",
   "id": "5348b9f5",
   "metadata": {},
   "source": [
    "# Q7. Can string data be stored in numpy arrays? If so, list at least one restriction that applies to this data."
   ]
  },
  {
   "cell_type": "markdown",
   "id": "273088a1",
   "metadata": {},
   "source": [
    "<b>Ans:</b> Yes, string data can be stored in NumPy arrays using the dtype parameter set to np.str_ or np.object. However, there are some restrictions when working with string data in NumPy arrays, one of the limitation is\n",
    "\n",
    "- Fixed-length strings: NumPy requires fixed-length strings in arrays, meaning all strings in an array must have the same length. If a string exceeds the specified length, it will be truncated. This can lead to loss of data if the original string length is greater than the defined length."
   ]
  }
 ],
 "metadata": {
  "kernelspec": {
   "display_name": "Python 3 (ipykernel)",
   "language": "python",
   "name": "python3"
  },
  "language_info": {
   "codemirror_mode": {
    "name": "ipython",
    "version": 3
   },
   "file_extension": ".py",
   "mimetype": "text/x-python",
   "name": "python",
   "nbconvert_exporter": "python",
   "pygments_lexer": "ipython3",
   "version": "3.9.13"
  }
 },
 "nbformat": 4,
 "nbformat_minor": 5
}
