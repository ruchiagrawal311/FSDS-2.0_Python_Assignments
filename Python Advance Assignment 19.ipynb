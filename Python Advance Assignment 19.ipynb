{
 "cells": [
  {
   "cell_type": "markdown",
   "id": "06f97836",
   "metadata": {},
   "source": [
    "# Q1. Define the relationship between a class and its instances. Is it a one-to-one or a one-to-many partnership, for example?"
   ]
  },
  {
   "cell_type": "markdown",
   "id": "768f9405",
   "metadata": {},
   "source": [
    "<b>Ans: </b> The relationship between a class and its instances is a one-to-many partnership. A class serves as a blueprint or template for creating multiple instances (objects) with similar characteristics and behavior. Each instance represents a unique occurrence of the class, but multiple instances can exist based on the same class definition.\n",
    "\n"
   ]
  },
  {
   "cell_type": "markdown",
   "id": "73bc4922",
   "metadata": {},
   "source": [
    "# Q2. What kind of data is held only in an instance?"
   ]
  },
  {
   "cell_type": "markdown",
   "id": "a7bf6fd8",
   "metadata": {},
   "source": [
    "<b>Ans:</b> Instance objects contains the Instance variables which are specific to that specific Instance object.\n",
    "\n"
   ]
  },
  {
   "cell_type": "markdown",
   "id": "126a8cc1",
   "metadata": {},
   "source": [
    "# Q3. What kind of knowledge is stored in a class?"
   ]
  },
  {
   "cell_type": "markdown",
   "id": "ac2fd4a9",
   "metadata": {},
   "source": [
    "<b>Ans: </b>Class creates a user-defined data structure, which holds its own data members and member functions, which can be accessed and used by creating an instance of that class. A class is like a blueprint for an object."
   ]
  },
  {
   "cell_type": "markdown",
   "id": "c40b3587",
   "metadata": {},
   "source": [
    "# Q4. What exactly is a method, and how is it different from a regular function?"
   ]
  },
  {
   "cell_type": "markdown",
   "id": "ebb24ecc",
   "metadata": {},
   "source": [
    "<b>Ans: </b>The methods with a class can be used to access the insatnce variables of its instance. So,the object's state can be modified by its method. Function can't access the attributes of an instance of a class or can't modify the state of the object."
   ]
  },
  {
   "cell_type": "markdown",
   "id": "ce109165",
   "metadata": {},
   "source": [
    "# Q5. Is inheritance supported in Python, and if so, what is the syntax?"
   ]
  },
  {
   "cell_type": "markdown",
   "id": "83cb0892",
   "metadata": {},
   "source": [
    "<b>Ans:</b> Yes,Python supports inheritance. The Types of Inheritence Supported by Python are:\n",
    "\n",
    "Simple Inheritence <br>\n",
    "Multiple Inheritence <br>\n",
    "Multilevel lInheritence <br>\n",
    "Hybrid Inheritence <br>\n",
    "Hierracial Inheritence "
   ]
  },
  {
   "cell_type": "code",
   "execution_count": 1,
   "id": "e36abae4",
   "metadata": {},
   "outputs": [],
   "source": [
    "class Person:\n",
    "    def __init__(self, fname, lname):\n",
    "        self.first_name = fname\n",
    "        self.last_name = lname\n",
    "class Student(Person):\n",
    "    pass"
   ]
  },
  {
   "cell_type": "markdown",
   "id": "83312a04",
   "metadata": {},
   "source": [
    "# Q6. How much encapsulation (making instance or class variables private) does Python support?"
   ]
  },
  {
   "cell_type": "markdown",
   "id": "42291ccc",
   "metadata": {},
   "source": [
    "<b>Ans: </b>Encapsulation describes the idea of wrapping data and the methods that work on data within one unit. This puts restrictions on accessing variables and methods directly and can prevent the accidental modification of data. To prevent accidental change, an objects variable can only be changed by an objects method.\n",
    "Python supports a level of encapsulation through the use of naming conventions and access modifiers. By convention, variables or methods starting with a single underscore (_) are considered \"internal\" and should not be accessed directly from outside the class. However, Python does not enforce strict access control like some other programming languages. There are no true private variables in Python, as everything is ultimately accessible. However, the use of the single underscore is a common convention to indicate that a variable or method is intended for internal use and should be treated as such."
   ]
  },
  {
   "cell_type": "markdown",
   "id": "9c5cc58b",
   "metadata": {},
   "source": [
    "# Q7. How do you distinguish between a class variable and an instance variable?"
   ]
  },
  {
   "cell_type": "markdown",
   "id": "593e7e46",
   "metadata": {},
   "source": [
    "<b>Ans: </b>The Class Attribute is available to all the instance objects of that class. whereas Instance Attributes are accessible only to the object or Instance of that class.\n",
    "\n",
    "A single copy of Class attributes is maintained by pvm at the class level. Whereas difference copies of instance attributes are maintained by pvm at objects/instance level."
   ]
  },
  {
   "cell_type": "markdown",
   "id": "72dfa3d6",
   "metadata": {},
   "source": [
    "# Q8. When, if ever, can self be included in a class&#39;s method definitions?"
   ]
  },
  {
   "cell_type": "markdown",
   "id": "57bd8c89",
   "metadata": {},
   "source": [
    "<b>Ans: </b> In Python, the self parameter is typically included as the first parameter in a class's method definitions. It is used to refer to the instance of the class on which the method is being called. By convention, the first parameter of an instance method is named self, but you can choose any valid parameter name. The self parameter allows access to the instance's attributes and other methods. It is necessary to include self in method definitions to enable instance-level access and ensure correct method invocation within the class."
   ]
  },
  {
   "cell_type": "markdown",
   "id": "99660f70",
   "metadata": {},
   "source": [
    "# Q9. What is the difference between the _ _add_ _ and the _ _radd_ _ methods?"
   ]
  },
  {
   "cell_type": "markdown",
   "id": "5060eac1",
   "metadata": {},
   "source": [
    "<b>Ans: </b>Entering __radd__ Python will first try __add__(), and if that returns Not Implemented Python will check if the right-hand operand implements __radd__, and if it does, it will call __radd__() rather than raising a TypeError"
   ]
  },
  {
   "cell_type": "markdown",
   "id": "6b7a0800",
   "metadata": {},
   "source": [
    "# Q10. When is it necessary to use a reflection method? When do you not need it, even though you support the operation in question?"
   ]
  },
  {
   "cell_type": "markdown",
   "id": "d602172e",
   "metadata": {},
   "source": [
    "<b>Ans: </b>Reflection method we often encounter the requirement that a method in the executing object, or a variable in the calling object, or a field of the object should be assigned, while the method name or field name can not be determined when encoding the code, and need to be input in the form of passing strings through parameters"
   ]
  },
  {
   "cell_type": "markdown",
   "id": "1b670f72",
   "metadata": {},
   "source": [
    "# Q11. What is the _ _iadd_ _ method called?"
   ]
  },
  {
   "cell_type": "markdown",
   "id": "c8823435",
   "metadata": {},
   "source": [
    "<b>Ans:</b> __iadd__ method is called when we use implementation like a+=b which is a.__iadd__(b)\n",
    "\n"
   ]
  },
  {
   "cell_type": "markdown",
   "id": "e0d4b588",
   "metadata": {},
   "source": [
    "# Q12. Is the _ _init_ _ method inherited by subclasses? What do you do if you need to customize its behavior within a subclass?"
   ]
  },
  {
   "cell_type": "markdown",
   "id": "b1b4d809",
   "metadata": {},
   "source": [
    "<b>Ans: </b>Yes, __init__ method will be inherited by subclasses. if we want to customize its behaviour within a subclass we can use super() method."
   ]
  }
 ],
 "metadata": {
  "kernelspec": {
   "display_name": "Python 3 (ipykernel)",
   "language": "python",
   "name": "python3"
  },
  "language_info": {
   "codemirror_mode": {
    "name": "ipython",
    "version": 3
   },
   "file_extension": ".py",
   "mimetype": "text/x-python",
   "name": "python",
   "nbconvert_exporter": "python",
   "pygments_lexer": "ipython3",
   "version": "3.9.13"
  }
 },
 "nbformat": 4,
 "nbformat_minor": 5
}
