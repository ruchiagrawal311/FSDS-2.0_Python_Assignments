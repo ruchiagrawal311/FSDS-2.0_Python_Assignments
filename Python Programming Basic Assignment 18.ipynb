{
 "cells": [
  {
   "cell_type": "markdown",
   "id": "cecc5e4a",
   "metadata": {},
   "source": [
    "# Question 1\n",
    "Create a function that takes a list of non-negative integers and strings and return a new list <br>\n",
    "without the strings. <br>\n",
    "Examples <br>\n",
    "filter_list([1, 2, &quot;a&quot;, &quot;b&quot;]) ➞ [1, 2] <br>\n",
    "filter_list([1, &quot;a&quot;, &quot;b&quot;, 0, 15]) ➞ [1, 0, 15] <br>\n",
    "filter_list([1, 2, &quot;aasf&quot;, &quot;1&quot;, &quot;123&quot;, 123]) ➞ [1, 2, 123]"
   ]
  },
  {
   "cell_type": "code",
   "execution_count": 1,
   "id": "d7f2a1e8",
   "metadata": {},
   "outputs": [
    {
     "name": "stdout",
     "output_type": "stream",
     "text": [
      "➞ [1, 2]\n",
      "➞ [1, 0, 15]\n",
      "➞ [1, 2, 123]\n"
     ]
    }
   ],
   "source": [
    "def filter_list(list):\n",
    "    out_string = []\n",
    "    for ele in list:\n",
    "        if type(ele) == int and ele >= 0:\n",
    "            out_string.append(ele)\n",
    "    return out_string\n",
    "            \n",
    "print(f'➞ {filter_list([1, 2, \"a\", \"b\"])}')\n",
    "print(f'➞ {filter_list([1, \"a\", \"b\", 0, 15])}')\n",
    "print(f'➞ {filter_list([1, 2, \"aasf\", \"1\", \"123\", 123])}')"
   ]
  },
  {
   "cell_type": "markdown",
   "id": "33482119",
   "metadata": {},
   "source": [
    "# Question 2\n",
    "The &quot;Reverser&quot; takes a string as input and returns that string in reverse order, with the <br> \n",
    "opposite case. <br>\n",
    "Examples <br>\n",
    "reverse(&quot;Hello World&quot;) ➞ &quot;DLROw OLLEh&quot; <br>\n",
    "reverse(&quot;ReVeRsE&quot;) ➞ &quot;eSrEvEr&quot; <br>\n",
    "reverse(&quot;Radar&quot;) ➞ &quot;RADAr&quot;"
   ]
  },
  {
   "cell_type": "code",
   "execution_count": 1,
   "id": "c64f8f80",
   "metadata": {},
   "outputs": [
    {
     "name": "stdout",
     "output_type": "stream",
     "text": [
      "DLROw OLLEh\n",
      "eSrEvEr\n",
      "RADAr\n"
     ]
    }
   ],
   "source": [
    "def reverse(string):\n",
    "    reversed_string = string[::-1]\n",
    "    return reversed_string.swapcase()\n",
    "# Example\n",
    "print(reverse(\"Hello World\")) \n",
    "print(reverse(\"ReVeRsE\"))  \n",
    "print(reverse(\"Radar\"))  \n"
   ]
  },
  {
   "cell_type": "markdown",
   "id": "a91fa864",
   "metadata": {},
   "source": [
    "# Question 3\n",
    "You can assign variables from lists like this: <br>\n",
    "lst = [1, 2, 3, 4, 5, 6] <br>\n",
    "first = lst[0] <br>\n",
    "middle = lst[1:-1] <br>\n",
    "last = lst[-1] <br>\n",
    "print(first) ➞ outputs 1 <br>\n",
    "print(middle) ➞ outputs [2, 3, 4, 5] <br>\n",
    "print(last) ➞ outputs 6 <br>\n",
    "With Python 3, you can assign variables from lists in a much more succinct way. Create <br>\n",
    "variables first, middle and last from the given list using destructuring assignment <br>\n",
    "(check the Resources tab for some examples), where: <br>\n",
    "first ➞ 1 <br>\n",
    "middle ➞ [2, 3, 4, 5] <br>\n",
    "last ➞ 6 <br>\n",
    "\n",
    "Your task is to unpack the list writeyourcodehere into three variables, being first, <br>\n",
    "middle, and last, with middle being everything in between the first and last element. Then <br>\n",
    "print all three variables."
   ]
  },
  {
   "cell_type": "code",
   "execution_count": 4,
   "id": "a9d43c38",
   "metadata": {},
   "outputs": [
    {
     "name": "stdout",
     "output_type": "stream",
     "text": [
      "first 1\n",
      "middle [2, 3, 4, 5]\n",
      "last 6\n"
     ]
    }
   ],
   "source": [
    "writeyourcodehere = [1, 2, 3, 4, 5, 6]\n",
    "\n",
    "first, *middle, last = writeyourcodehere\n",
    "\n",
    "print(f\"first {first}\")  \n",
    "print(f\"middle {middle}\")  \n",
    "print(f\"last {last}\")  \n"
   ]
  },
  {
   "cell_type": "markdown",
   "id": "e32cea83",
   "metadata": {},
   "source": [
    "# Question 4\n",
    "Write a function that calculates the factorial of a number recursively. <br>\n",
    "Examples <br>\n",
    "factorial(5) ➞ 120 <br>\n",
    "factorial(3) ➞ 6 <br>\n",
    "factorial(1) ➞ 1 <br>\n",
    "factorial(0) ➞ 1 <br>"
   ]
  },
  {
   "cell_type": "code",
   "execution_count": 5,
   "id": "2c69646e",
   "metadata": {},
   "outputs": [
    {
     "name": "stdout",
     "output_type": "stream",
     "text": [
      "factorial(5) ➞ 120\n",
      "factorial(3) ➞ 6\n",
      "factorial(1) ➞ 1\n",
      "factorial(0) ➞ 1\n"
     ]
    }
   ],
   "source": [
    "def factorial(n):\n",
    "    if n == 0 or n == 1:\n",
    "        return 1\n",
    "    else:\n",
    "        return n * factorial(n - 1)\n",
    "\n",
    "\n",
    "print(f'factorial(5) ➞ {factorial(5)}')\n",
    "print(f'factorial(3) ➞ {factorial(3)}')\n",
    "print(f'factorial(1) ➞ {factorial(1)}')\n",
    "print(f'factorial(0) ➞ {factorial(0)}')"
   ]
  },
  {
   "cell_type": "markdown",
   "id": "dfdc9578",
   "metadata": {},
   "source": [
    "# Question 5\n",
    "Write a function that moves all elements of one type to the end of the list. <br>\n",
    "Examples <br>\n",
    "move_to_end([1, 3, 2, 4, 4, 1], 1) ➞ [3, 2, 4, 4, 1, 1] <br>\n",
    "# Move all the 1s to the end of the array. <br>\n",
    "move_to_end([7, 8, 9, 1, 2, 3, 4], 9) ➞ [7, 8, 1, 2, 3, 4, 9] <br>\n",
    "move_to_end([&quot;a&quot;, &quot;a&quot;, &quot;a&quot;, &quot;b&quot;], &quot;a&quot;) ➞ [&quot;b&quot;, &quot;a&quot;, &quot;a&quot;, &quot;a&quot;]"
   ]
  },
  {
   "cell_type": "code",
   "execution_count": 8,
   "id": "e1a5de50",
   "metadata": {},
   "outputs": [
    {
     "name": "stdout",
     "output_type": "stream",
     "text": [
      "move_to_end([1, 3, 2, 4, 4, 1], 1) ➞ [3, 2, 4, 4, 1, 1]\n",
      "move_to_end([7, 8, 9, 1, 2, 3, 4], 9) ➞ [7, 8, 1, 2, 3, 4, 9]\n",
      "move_to_end([\"a\", \"a\", \"a\", \"b\"], \"a\") ➞ ['b', 'a', 'a', 'a']\n"
     ]
    }
   ],
   "source": [
    "def move_to_end(lst, element):\n",
    "    count = lst.count(element)  # Count the occurrences of the element\n",
    "    lst = [x for x in lst if x != element]  # Create a new list without the element\n",
    "    lst.extend([element] * count)  # Append the element count times to the end of the list\n",
    "    return lst\n",
    "\n",
    "print(f'move_to_end([1, 3, 2, 4, 4, 1], 1) ➞ {move_to_end([1, 3, 2, 4, 4, 1], 1)}')\n",
    "print(f'move_to_end([7, 8, 9, 1, 2, 3, 4], 9) ➞ {move_to_end([7, 8, 9, 1, 2, 3, 4], 9)}')\n",
    "print(f'move_to_end([\"a\", \"a\", \"a\", \"b\"], \"a\") ➞ {move_to_end([\"a\", \"a\", \"a\", \"b\"], \"a\")}')\n"
   ]
  }
 ],
 "metadata": {
  "kernelspec": {
   "display_name": "Python 3 (ipykernel)",
   "language": "python",
   "name": "python3"
  },
  "language_info": {
   "codemirror_mode": {
    "name": "ipython",
    "version": 3
   },
   "file_extension": ".py",
   "mimetype": "text/x-python",
   "name": "python",
   "nbconvert_exporter": "python",
   "pygments_lexer": "ipython3",
   "version": "3.9.13"
  }
 },
 "nbformat": 4,
 "nbformat_minor": 5
}
