{
 "cells": [
  {
   "cell_type": "markdown",
   "id": "5c673109",
   "metadata": {},
   "source": [
    "# Q1. What are the benefits of the built-in array package, if any?"
   ]
  },
  {
   "cell_type": "markdown",
   "id": "b60d3993",
   "metadata": {},
   "source": [
    "<b>Ans: </b>Arrays represent multiple data items of the same type using a single name. In arrays, the elements can be accessed randomly by using the index number. Arrays allocate memory in contiguous memory locations for all its elements. Hence there is no chance of extra memory being allocated in case of arrays. This avoids memory overflow or shortage of memory in arrays."
   ]
  },
  {
   "cell_type": "markdown",
   "id": "f9f1fe3c",
   "metadata": {},
   "source": [
    "# Q2. What are some of the array package&#39;s limitations?"
   ]
  },
  {
   "cell_type": "markdown",
   "id": "144b3104",
   "metadata": {},
   "source": [
    "<b>Ans: </b>The number of elements to be stored in an array should be known in advance. An array is a static structure (which means the array is of fixed size). Once declared the size of the array cannot be modified. The memory which is allocated to it cannot be increased or decreased.\n",
    "\n",
    "Insertion and deletion are quite difficult in an array as the elements are stored in consecutive memory locations and the shifting operation is costly.\n",
    "\n",
    "Allocating more memory than the requirement leads to wastage of memory space and less allocation of memory also leads to a problem"
   ]
  },
  {
   "cell_type": "markdown",
   "id": "7ee32f5e",
   "metadata": {},
   "source": [
    "# Q3. Describe the main differences between the array and numpy packages."
   ]
  },
  {
   "cell_type": "markdown",
   "id": "da681954",
   "metadata": {},
   "source": [
    "<b>Ans:</b> The array package doesn't provide any help with numerical calculation with the items insdie it in number form while NumPy give you a wide variety of numerical operations.\n",
    "\n",
    "An array is a single dimensional entity which hold the numerical data, while numpy can have more than 1 dimension.\n",
    "\n",
    "In case of array, item can be accessed by its index position and it is easy task while in numpy item is accessed by its column and row index, which makes it slightly time taking. Same goes with appending operation.\n",
    "\n",
    "In case of array we do not form a tabular structure, while in numpy it forms a tabular structure\n",
    "\n"
   ]
  },
  {
   "cell_type": "markdown",
   "id": "97c6c84e",
   "metadata": {},
   "source": [
    "# Q4. Explain the distinctions between the empty, ones, and zeros functions."
   ]
  },
  {
   "cell_type": "markdown",
   "id": "dde94e92",
   "metadata": {},
   "source": [
    "<b>Ans: </b>The distinctions between the empty, ones, and zero functions are as follows :\n",
    "\n",
    "- Empty function: An empty function is a function that does not contain any statement within its body. If you try to write a function definition without any statement in python ,it will return an error. To avoid this, we use pass statement. pass is a special statement in Python that does nothing. It only works as a dummy statement.\n",
    "- Ones: This function returns a new array of given shape and data type, where the element’s value is 1.\n",
    "- Zeros: This function returns a new array of given shape and data type, where the element’s value is 0."
   ]
  },
  {
   "cell_type": "markdown",
   "id": "f74db900",
   "metadata": {},
   "source": [
    "# Q5. In the fromfunction function, which is used to construct new arrays, what is the role of the callable argument?"
   ]
  },
  {
   "cell_type": "markdown",
   "id": "2f60d6e9",
   "metadata": {},
   "source": [
    "<b>Ans:</b>  In the fromfunction function in NumPy, the callable argument refers to a function or callable object that is used to calculate the values for each element of the new array being constructed. This function is called with the indices of the array as input, and it should return the corresponding value for each index. The callable is essentially a rule or formula that defines how the values of the array should be computed based on the indices. It allows for the creation of custom arrays with values determined by a user-defined function."
   ]
  },
  {
   "cell_type": "markdown",
   "id": "ec97e4b3",
   "metadata": {},
   "source": [
    "# Q6. What happens when a numpy array is combined with a single-value operand (a scalar, such as an int or a floating-point value) through addition, as in the expression A + n"
   ]
  },
  {
   "cell_type": "markdown",
   "id": "b4a3cd70",
   "metadata": {},
   "source": [
    "<b>Ans: </b>If any scaler value such as integer is added to the numpy array then all the elements inside the array will add the given value in the given array."
   ]
  },
  {
   "cell_type": "markdown",
   "id": "c44614a9",
   "metadata": {},
   "source": [
    "# Q7. Can array-to-scalar operations use combined operation-assign operators (such as += or *=)? What is the outcome?"
   ]
  },
  {
   "cell_type": "markdown",
   "id": "c58ae0cf",
   "metadata": {},
   "source": [
    "<b>Ans:</b> No, array-to-scalar operations in NumPy do not support combined operation-assign operators like `+=` or `*=`. If you try to use such operators, it will result in a TypeError. These operators are designed to work with scalar values and are not defined for array operations. To perform element-wise operations between an array and a scalar and update the original array, you need to use the corresponding element-wise operation function or use broadcasting to perform the operation."
   ]
  },
  {
   "cell_type": "markdown",
   "id": "a2f52d6d",
   "metadata": {},
   "source": [
    "# Q8. Does a numpy array contain fixed-length strings? What happens if you allocate a longer string to one of these arrays?"
   ]
  },
  {
   "cell_type": "markdown",
   "id": "d44bb9bb",
   "metadata": {},
   "source": [
    "<b>Ans: </b> In NumPy, you can create arrays of fixed-length strings using the `dtype` parameter when creating the array. For example, you can create an array of fixed-length strings of length 5 by specifying `dtype='S5'`.\n",
    "\n",
    "If you allocate a longer string to one of these arrays, the string will be truncated to fit within the specified length. No error or warning will be raised, and the assigned string will be truncated silently. For example, if you have a fixed-length string array of length 5 and you assign a string of length 10, the assigned string will be truncated to fit within the specified length of 5."
   ]
  },
  {
   "cell_type": "markdown",
   "id": "23a89576",
   "metadata": {},
   "source": [
    "# Q9. What happens when you combine two numpy arrays using an operation like addition (+) or multiplication (*)? What are the conditions for combining two numpy arrays?"
   ]
  },
  {
   "cell_type": "markdown",
   "id": "0d9cb04e",
   "metadata": {},
   "source": [
    "<b>Ans: </b> When you combine two NumPy arrays using an operation like addition (+) or multiplication (*), the arrays are element-wise operated upon based on their corresponding elements.\n",
    "\n",
    "The conditions for combining two NumPy arrays are:\n",
    "\n",
    "1. The arrays must have compatible shapes. This means they should have the same dimensions or compatible broadcasting rules should apply. Broadcasting allows arrays with different shapes to be treated as if they have the same shape under certain conditions.\n",
    "\n",
    "2. The corresponding elements of the arrays must have compatible data types. For example, if one array contains integers and the other contains floating-point numbers, the data types need to be compatible for the operation to be performed.\n",
    "\n",
    "If the conditions for combining the arrays are met, the operation will be applied element-wise. For addition, each corresponding pair of elements from the two arrays will be added together. Similarly, for multiplication, each corresponding pair of elements will be multiplied. The resulting array will have the same shape as the input arrays."
   ]
  },
  {
   "cell_type": "markdown",
   "id": "36d4b1b7",
   "metadata": {},
   "source": [
    "# Q10. What is the best way to use a Boolean array to mask another array?"
   ]
  },
  {
   "cell_type": "markdown",
   "id": "5cc71da7",
   "metadata": {},
   "source": [
    "<b>Ans: </b> The best way to use a Boolean array as a mask to select elements from another array is by using the indexing feature of NumPy. You can simply pass the Boolean array as the index to the array you want to mask. "
   ]
  },
  {
   "cell_type": "code",
   "execution_count": 2,
   "id": "9d6018d1",
   "metadata": {},
   "outputs": [
    {
     "name": "stdout",
     "output_type": "stream",
     "text": [
      "[1 3]\n"
     ]
    }
   ],
   "source": [
    "# Example\n",
    "import numpy as np\n",
    "\n",
    "# Original array\n",
    "arr = np.array([1, 2, 3, 4, 5])\n",
    "\n",
    "# Boolean mask array\n",
    "mask = np.array([True, False, True, False, False])\n",
    "\n",
    "# Apply the mask to select elements\n",
    "masked_arr = arr[mask]\n",
    "\n",
    "print(masked_arr)\n"
   ]
  },
  {
   "cell_type": "markdown",
   "id": "132b7e2e",
   "metadata": {},
   "source": [
    "# Q11. What are three different ways to get the standard deviation of a wide collection of data using both standard Python and its packages? Sort the three of them by how quickly they execute."
   ]
  },
  {
   "cell_type": "markdown",
   "id": "8106d48f",
   "metadata": {},
   "source": [
    "<b>Ans:</b> Sorting the three methods by execution speed from fastest to slowest:\n",
    "\n",
    "- NumPy: Using the numpy package, you can calculate the standard deviation of a collection of data using the numpy.std() function. This method is typically the fastest as NumPy is optimized for numerical operations.\n",
    "\n",
    "- Pandas: If you have your data stored in a DataFrame using the pandas package, you can calculate the standard deviation using the DataFrame.std() method. This method is efficient and performs well, especially for tabular data.\n",
    "\n",
    "- Standard Python: Using only the built-in functionalities of standard Python, you can calculate the standard deviation by implementing the formula manually. You would need to calculate the mean, sum of squared differences, and divide by the number of elements. This method tends to be slower compared to using specialized numerical packages like NumPy and Pandas."
   ]
  },
  {
   "cell_type": "code",
   "execution_count": 4,
   "id": "e2acb253",
   "metadata": {},
   "outputs": [
    {
     "name": "stdout",
     "output_type": "stream",
     "text": [
      "1.4142135623730951 1.5811388300841898 1.4142135623730951\n"
     ]
    }
   ],
   "source": [
    "#Example\n",
    "import numpy as np\n",
    "import pandas as pd\n",
    "\n",
    "# Data as a list\n",
    "data = [1, 2, 3, 4, 5]\n",
    "\n",
    "# Method 1: NumPy\n",
    "std_numpy = np.std(data)\n",
    "\n",
    "# Method 2: Pandas\n",
    "df = pd.DataFrame(data)\n",
    "std_pandas = df.std()[0]\n",
    "\n",
    "# Method 3: Standard Python\n",
    "mean = sum(data) / len(data)\n",
    "squared_diff = [(x - mean) ** 2 for x in data]\n",
    "std_python = (sum(squared_diff) / len(data)) ** 0.5\n",
    "\n",
    "print(std_numpy, std_pandas, std_python)\n"
   ]
  },
  {
   "cell_type": "markdown",
   "id": "205d13bb",
   "metadata": {},
   "source": [
    "# 12. What is the dimensionality of a Boolean mask-generated array?"
   ]
  },
  {
   "cell_type": "markdown",
   "id": "0b68caa0",
   "metadata": {},
   "source": [
    "<b>Ans: </b> The dimensionality of a Boolean mask-generated array is the same as the original array that was used to create the mask. The Boolean mask is used to filter elements from the original array based on certain conditions, resulting in a new array that retains the same dimensionality as the original array."
   ]
  }
 ],
 "metadata": {
  "kernelspec": {
   "display_name": "Python 3 (ipykernel)",
   "language": "python",
   "name": "python3"
  },
  "language_info": {
   "codemirror_mode": {
    "name": "ipython",
    "version": 3
   },
   "file_extension": ".py",
   "mimetype": "text/x-python",
   "name": "python",
   "nbconvert_exporter": "python",
   "pygments_lexer": "ipython3",
   "version": "3.9.13"
  }
 },
 "nbformat": 4,
 "nbformat_minor": 5
}
