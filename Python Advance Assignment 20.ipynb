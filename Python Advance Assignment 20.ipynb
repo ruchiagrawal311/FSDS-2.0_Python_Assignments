{
 "cells": [
  {
   "cell_type": "markdown",
   "id": "0537fbac",
   "metadata": {},
   "source": [
    "# 1. Compare and contrast the float and Decimal classes&#39; benefits and drawbacks."
   ]
  },
  {
   "cell_type": "markdown",
   "id": "31357f42",
   "metadata": {},
   "source": [
    "<b>Ans:</b> Both the float and decimal types store numerical values in Python.\n",
    "\n",
    "Use floats when convenience and speed matter. A float gives you an approximation of the number you declare.\n",
    "\n",
    "Use decimals when precision matters. Decimals can suffer from their own precision issues, but generally, decimals are more precise than floats. The performance difference between float and decimal, with Python 3, is not outlandish, and in my experience, the precision benefits of a decimal outweigh the performance benefits of a float."
   ]
  },
  {
   "cell_type": "markdown",
   "id": "86a31e5c",
   "metadata": {},
   "source": [
    "# 2. Decimal(&#39;1.200&#39;) and Decimal(&#39;1.2&#39;) are two objects to consider. In what sense are these the same object? Are these just two ways of representing the exact same value, or do they correspond to different internal states?"
   ]
  },
  {
   "cell_type": "markdown",
   "id": "84faf9d9",
   "metadata": {},
   "source": [
    "<b>Ans: </b>Both values are same but internal representation at storage Is different. Precsion differs, Decimal('1.200') gives internally 1.200 and Decimal('1.2') gives 1.2."
   ]
  },
  {
   "cell_type": "markdown",
   "id": "29f60bcd",
   "metadata": {},
   "source": [
    "# 3. What happens if the equality of Decimal(&#39;1.200&#39;) and Decimal(&#39;1.2&#39;) is checked?"
   ]
  },
  {
   "cell_type": "markdown",
   "id": "d277c232",
   "metadata": {},
   "source": [
    "<b>Ans: </b>Both values are checked to be equal , they only differ in precision."
   ]
  },
  {
   "cell_type": "markdown",
   "id": "ee31daa7",
   "metadata": {},
   "source": [
    "# 4. Why is it preferable to start a Decimal object with a string rather than a floating-point value?"
   ]
  },
  {
   "cell_type": "markdown",
   "id": "ffb366e7",
   "metadata": {},
   "source": [
    "<b>Ans: </b>Floating-point value is converted to Decimal format. Decimal can store float value with absolute precision. But when float value is given as Decimal object,it first has to be converted from floating point value which might already have rounding error.\n",
    "\n",
    "Hence it is preferable to start a Decimal object with a string."
   ]
  },
  {
   "cell_type": "markdown",
   "id": "a3cc803f",
   "metadata": {},
   "source": [
    "# 5. In an arithmetic phrase, how simple is it to combine Decimal objects with integers?"
   ]
  },
  {
   "cell_type": "markdown",
   "id": "7afdc744",
   "metadata": {},
   "source": [
    "<b>Ans: </b> In Python, combining Decimal objects with integers in arithmetic operations is straightforward. The Decimal class in the decimal module provides a high-precision decimal arithmetic implementation, and it seamlessly supports arithmetic operations with integers. We can do it with use of Decimal()."
   ]
  },
  {
   "cell_type": "markdown",
   "id": "b766f734",
   "metadata": {},
   "source": [
    "# 6. Can Decimal objects and floating-point values be combined easily?"
   ]
  },
  {
   "cell_type": "markdown",
   "id": "47e19367",
   "metadata": {},
   "source": [
    "<b>Ans: </b>Arithmetic operfations like Adding,subtracting or multiplying a Decimal object by a floating-point value will generate an error.\n",
    "\n",
    "To do these operations, the floating point has to be converted to a Decimal."
   ]
  },
  {
   "cell_type": "markdown",
   "id": "e5a761ac",
   "metadata": {},
   "source": [
    "# 7. Using the Fraction class but not the Decimal class, give an example of a quantity that can be expressed with absolute precision."
   ]
  },
  {
   "cell_type": "markdown",
   "id": "a006d697",
   "metadata": {},
   "source": [
    "<b>Ans: </b>  The Fraction class in Python provides a way to represent and manipulate rational numbers accurately. Unlike decimal numbers, which may have repeating decimal representations, certain quantities can be expressed with absolute precision using fractions Value of 0.5 will be represented as ½."
   ]
  },
  {
   "cell_type": "code",
   "execution_count": 1,
   "id": "14765bb2",
   "metadata": {},
   "outputs": [
    {
     "name": "stdout",
     "output_type": "stream",
     "text": [
      "1/2\n"
     ]
    }
   ],
   "source": [
    "from fractions import Fraction\n",
    "\n",
    "fraction = Fraction(1, 2)\n",
    "print(fraction) \n"
   ]
  },
  {
   "cell_type": "markdown",
   "id": "658be8fb",
   "metadata": {},
   "source": [
    "# 8. Describe a quantity that can be accurately expressed by the Decimal or Fraction classes but not by a floating-point value."
   ]
  },
  {
   "cell_type": "markdown",
   "id": "9194f086",
   "metadata": {},
   "source": [
    "<b>Ans: </b>\n",
    "A quantity that can be accurately expressed by the Decimal or Fraction classes but not by a floating-point value is a repeating decimal or an irrational number.<br>\n",
    "For example, the square root of 2 (√2) is an irrational number that cannot be represented exactly as a decimal or a finite fraction. Representing √2 using floating-point arithmetic will introduce rounding errors and result in an approximation."
   ]
  },
  {
   "cell_type": "code",
   "execution_count": 8,
   "id": "0bd010ac",
   "metadata": {},
   "outputs": [
    {
     "name": "stdout",
     "output_type": "stream",
     "text": [
      "1.414213562373095048801688724\n",
      "1\n"
     ]
    }
   ],
   "source": [
    "from decimal import Decimal\n",
    "from fractions import Fraction\n",
    "import math\n",
    "\n",
    "sqrt_2 = Decimal(2).sqrt()\n",
    "print(sqrt_2)  \n",
    "\n",
    "\n",
    "\n",
    "sqrt_2_fraction = Fraction(math.isqrt(2), 1)\n",
    "print(sqrt_2_fraction)\n",
    "\n"
   ]
  },
  {
   "cell_type": "markdown",
   "id": "b4e18590",
   "metadata": {},
   "source": [
    "# Q9.Consider the following two fraction objects: Fraction(1, 2) and Fraction(1, 2). (5, 10). Is the internal state of these two objects the same? Why do you think that is?"
   ]
  },
  {
   "cell_type": "markdown",
   "id": "63465c5b",
   "metadata": {},
   "source": [
    "<b>Ans: </b>  The internal state of the two fraction objects Fraction(1, 2) and Fraction(5, 10) is not the same. The fractions have different numerator and denominator values, even though they represent the same mathematical value. The Fraction class simplifies the fractions to their simplest form, so Fraction(5, 10) will be internally represented as Fraction(1, 2). Therefore, when comparing the internal state of the objects, they will be considered the same."
   ]
  }
 ],
 "metadata": {
  "kernelspec": {
   "display_name": "Python 3 (ipykernel)",
   "language": "python",
   "name": "python3"
  },
  "language_info": {
   "codemirror_mode": {
    "name": "ipython",
    "version": 3
   },
   "file_extension": ".py",
   "mimetype": "text/x-python",
   "name": "python",
   "nbconvert_exporter": "python",
   "pygments_lexer": "ipython3",
   "version": "3.9.13"
  }
 },
 "nbformat": 4,
 "nbformat_minor": 5
}
