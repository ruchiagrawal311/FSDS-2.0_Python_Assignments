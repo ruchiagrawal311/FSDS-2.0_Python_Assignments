{
 "cells": [
  {
   "cell_type": "markdown",
   "id": "fb617676",
   "metadata": {},
   "source": [
    "# Question1\n",
    "Write a function that takes a list and a number as arguments. Add the number to the end of <br>\n",
    "the list, then remove the first element of the list. The function should then return the updated <br>\n",
    "list. <br>\n",
    "Examples <br>\n",
    "next_in_line([5, 6, 7, 8, 9], 1) ➞ [6, 7, 8, 9, 1] <br>\n",
    "next_in_line([7, 6, 3, 23, 17], 10) ➞ [6, 3, 23, 17, 10] <br>\n",
    "next_in_line([1, 10, 20, 42 ], 6) ➞ [10, 20, 42, 6] <br>\n",
    "next_in_line([], 6) ➞ &quot;No list has been selected&quot; <br>\n"
   ]
  },
  {
   "cell_type": "code",
   "execution_count": 5,
   "id": "360ac165",
   "metadata": {},
   "outputs": [
    {
     "name": "stdout",
     "output_type": "stream",
     "text": [
      "Output ➞ [6, 7, 8, 9, 1]\n",
      "Output ➞ [6, 3, 23, 17, 10]\n",
      "Output ➞ [10, 20, 42, 6]\n",
      "No list has been selected\n"
     ]
    }
   ],
   "source": [
    "def next_in_line(in_list,in_num):\n",
    "    if len(in_list) > 1:\n",
    "        in_list.append(in_num)\n",
    "        in_list.remove(in_list[0])\n",
    "        print(f'Output ➞ {in_list}')\n",
    "    else:\n",
    "        print('No list has been selected')\n",
    "\n",
    "next_in_line([5, 6, 7, 8, 9], 1) \n",
    "next_in_line([7, 6, 3, 23, 17], 10)\n",
    "next_in_line([1, 10, 20, 42 ], 6)\n",
    "next_in_line([], 6)"
   ]
  },
  {
   "cell_type": "markdown",
   "id": "f59563d9",
   "metadata": {},
   "source": [
    "# Question2\n",
    "Create the function that takes a list of dictionaries and returns the sum of people&#39;s budgets. <br>\n",
    "Examples <br>\n",
    "get_budgets([ <br>\n",
    "{ &quot;name&quot;: &quot;John&quot;, &quot;age&quot;: 21, &quot;budget&quot;: 23000 }, <br>\n",
    "{ &quot;name&quot;: &quot;Steve&quot;, &quot;age&quot;: 32, &quot;budget&quot;: 40000 }, <br>\n",
    "{ &quot;name&quot;: &quot;Martin&quot;, &quot;age&quot;: 16, &quot;budget&quot;: 2700 } <br>\n",
    "]) ➞ 65700 <br>\n",
    "get_budgets([ <br>\n",
    "{ &quot;name&quot;: &quot;John&quot;, &quot;age&quot;: 21, &quot;budget&quot;: 29000 }, <br>\n",
    "{ &quot;name&quot;: &quot;Steve&quot;, &quot;age&quot;: 32, &quot;budget&quot;: 32000 }, <br>\n",
    "{ &quot;name&quot;: &quot;Martin&quot;, &quot;age&quot;: 16, &quot;budget&quot;: 1600 } <br>\n",
    "]) ➞ 62600 <br>"
   ]
  },
  {
   "cell_type": "code",
   "execution_count": 1,
   "id": "000c6afa",
   "metadata": {},
   "outputs": [
    {
     "name": "stdout",
     "output_type": "stream",
     "text": [
      "Output ➞ 65700\n",
      "Output ➞ 62600\n"
     ]
    }
   ],
   "source": [
    "def get_budgets(in_dict):\n",
    "    sum = 0\n",
    "    for ele in in_dict:\n",
    "        sum += ele[\"budget\"]\n",
    "    print(f'Output ➞ {sum}')\n",
    "    \n",
    "get_budgets([\n",
    "{ \"name\": \"John\", \"age\": 21, \"budget\": 23000 },\n",
    "{ \"name\": \"Steve\", \"age\": 32, \"budget\": 40000 },\n",
    "{ \"name\": \"Martin\", \"age\": 16, \"budget\": 2700 }\n",
    "])\n",
    "\n",
    "get_budgets([\n",
    "{ \"name\": \"John\", \"age\": 21, \"budget\": 29000 },\n",
    "{ \"name\": \"Steve\", \"age\": 32, \"budget\": 32000 },\n",
    "{ \"name\": \"Martin\", \"age\": 16, \"budget\": 1600 }\n",
    "])"
   ]
  },
  {
   "cell_type": "markdown",
   "id": "3e5deb76",
   "metadata": {},
   "source": [
    "# Question3\n",
    "Create a function that takes a string and returns a string with its letters in alphabetical order. <br>\n",
    "Examples <br>\n",
    "alphabet_soup(&quot;hello&quot;) ➞ &quot;ehllo&quot; <br>\n",
    "alphabet_soup(&quot;edabit&quot;) ➞ &quot;abdeit&quot; <br>\n",
    "alphabet_soup(&quot;hacker&quot;) ➞ &quot;acehkr&quot; <br>\n",
    "alphabet_soup(&quot;geek&quot;) ➞ &quot;eegk&quot; <br>\n",
    "alphabet_soup(&quot;javascript&quot;) ➞ &quot;aacijprstv&quot; <br>\n"
   ]
  },
  {
   "cell_type": "code",
   "execution_count": 2,
   "id": "fbc99965",
   "metadata": {},
   "outputs": [
    {
     "name": "stdout",
     "output_type": "stream",
     "text": [
      "hello ➞ ehllo\n",
      "edabit ➞ abdeit\n",
      "hacker ➞ acehkr\n",
      "geek ➞ eegk\n",
      "javascript ➞ aacijprstv\n"
     ]
    }
   ],
   "source": [
    "def alphabet_soup(in_string):\n",
    "    out_string = ''.join(sorted(in_string))\n",
    "    print(f'{in_string} ➞ {out_string}')\n",
    "\n",
    "alphabet_soup(\"hello\")\n",
    "alphabet_soup(\"edabit\")\n",
    "alphabet_soup(\"hacker\")\n",
    "alphabet_soup(\"geek\")\n",
    "alphabet_soup(\"javascript\")"
   ]
  },
  {
   "cell_type": "markdown",
   "id": "1d443b9f",
   "metadata": {},
   "source": [
    "# Question4\n",
    "Suppose that you invest $10,000 for 10 years at an interest rate of 6% compounded monthly. <br>\n",
    "What will be the value of your investment at the end of the 10 year period? <br>\n",
    "Create a function that accepts the principal p, the term in years t, the interest rate r, and the <br>\n",
    "number of compounding periods per year n. The function returns the value at the end of term <br>\n",
    "rounded to the nearest cent. <br>\n",
    "For the example above: <br>\n",
    "compound_interest(10000, 10, 0.06, 12) ➞ 18193.97 <br>\n",
    "Note that the interest rate is given as a decimal and n=12 because with monthly compounding <br>\n",
    "there are 12 periods per year. Compounding can also be done annually, quarterly, weekly, or <br>\n",
    "daily. <br>\n",
    "Examples <br>\n",
    "compound_interest(100, 1, 0.05, 1) ➞ 105.0 <br>\n",
    "compound_interest(3500, 15, 0.1, 4) ➞ 15399.26 <br>\n",
    "compound_interest(100000, 20, 0.15, 365) ➞ 2007316.26 <br>\n"
   ]
  },
  {
   "cell_type": "code",
   "execution_count": 3,
   "id": "d7c4a0cb",
   "metadata": {},
   "outputs": [
    {
     "name": "stdout",
     "output_type": "stream",
     "text": [
      "Output ➞ 105.00\n",
      "Output ➞ 15399.26\n",
      "Output ➞ 2007316.26\n"
     ]
    }
   ],
   "source": [
    "def compound_interest(principal,years,roi,cp):\n",
    "    ci = principal*(1+(roi/cp))**(cp*years)\n",
    "    print(f'Output ➞ {ci:.2f}')\n",
    "\n",
    "compound_interest(100, 1, 0.05, 1)\n",
    "compound_interest(3500, 15, 0.1, 4)\n",
    "compound_interest(100000, 20, 0.15, 365)"
   ]
  },
  {
   "cell_type": "markdown",
   "id": "979da337",
   "metadata": {},
   "source": [
    "# Question5\n",
    "Write a function that takes a list of elements and returns only the integers. <br>\n",
    "Examples <br>\n",
    "return_only_integer([9, 2, &quot;space&quot;, &quot;car&quot;, &quot;lion&quot;, 16]) ➞ [9, 2, 16] <br>\n",
    "return_only_integer([&quot;hello&quot;, 81, &quot;basketball&quot;, 123, &quot;fox&quot;]) ➞ [81, 123] <br>\n",
    "return_only_integer([10, &quot;121&quot;, 56, 20, &quot;car&quot;, 3, &quot;lion&quot;]) ➞ [10, 56, 20, 3]<br>\n",
    "\n",
    "return_only_integer([&quot;String&quot;, True, 3.3, 1]) ➞ [1]"
   ]
  },
  {
   "cell_type": "code",
   "execution_count": 1,
   "id": "4bda6709",
   "metadata": {},
   "outputs": [
    {
     "name": "stdout",
     "output_type": "stream",
     "text": [
      "[9, 2, 16]\n",
      "[81, 123]\n",
      "[10, 56, 20, 3]\n",
      "[True, 1]\n"
     ]
    }
   ],
   "source": [
    "def return_only_integer(elements):\n",
    "    return [x for x in elements if isinstance(x, int)]\n",
    "\n",
    "print(return_only_integer([9, 2, \"space\", \"car\", \"lion\", 16]))  \n",
    "print(return_only_integer([\"hello\", 81, \"basketball\", 123, \"fox\"])) \n",
    "print(return_only_integer([10, \"121\", 56, 20, \"car\", 3, \"lion\"]))  \n",
    "print(return_only_integer([\"String\", True, 3.3, 1]))  "
   ]
  }
 ],
 "metadata": {
  "kernelspec": {
   "display_name": "Python 3 (ipykernel)",
   "language": "python",
   "name": "python3"
  },
  "language_info": {
   "codemirror_mode": {
    "name": "ipython",
    "version": 3
   },
   "file_extension": ".py",
   "mimetype": "text/x-python",
   "name": "python",
   "nbconvert_exporter": "python",
   "pygments_lexer": "ipython3",
   "version": "3.9.13"
  }
 },
 "nbformat": 4,
 "nbformat_minor": 5
}
