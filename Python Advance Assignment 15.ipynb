{
 "cells": [
  {
   "cell_type": "markdown",
   "id": "d4909ea1",
   "metadata": {},
   "source": [
    "# 1. What are the new features added in Python 3.8 version?"
   ]
  },
  {
   "cell_type": "markdown",
   "id": "382c080e",
   "metadata": {},
   "source": [
    "Python 3.8 introduced several new features:\n",
    "\n",
    "- Assignment Expressions (the \"walrus operator\") - Allows assignment within an expression using the := operator.\n",
    "\n",
    "- Positional-only Parameters - Enables defining function parameters that can only be passed positionally and not as keyword arguments.\n",
    "\n",
    "- f-strings support \"=\" for self-documenting expressions and debugging.\n",
    "\n",
    "- The math.prod() function - A new math function for computing the product of a sequence of numbers.\n",
    "\n",
    "- The functools.lru_cache() decorator - Provides a built-in way to implement memoization for function calls.\n",
    "\n",
    "- Syntax Warning control - Allows finer control over the display and handling of syntax warnings.\n",
    "\n",
    "- Improved performance and optimizations.\n",
    "\n",
    "- Other minor improvements and enhancements in the standard library."
   ]
  },
  {
   "cell_type": "markdown",
   "id": "5489cdfa",
   "metadata": {},
   "source": [
    "# 2. What is monkey patching in Python?"
   ]
  },
  {
   "cell_type": "markdown",
   "id": "df5fd3b7",
   "metadata": {},
   "source": [
    "Monkey patching in Python refers to the practice of dynamically modifying or extending the behavior of existing classes or modules at runtime. It allows you to add, replace, or modify attributes, methods, or functions of existing objects without changing their original source code.\n",
    "\n",
    "Monkey patching can be useful in situations where you want to customize the behavior of a class or module without having to modify its original code. It provides flexibility to adapt or enhance existing functionality to suit specific requirements.\n",
    "\n",
    "However, monkey patching should be used with caution as it can make code more complex and harder to understand, especially in larger projects. It's important to ensure that monkey patches are well-documented and applied judiciously to avoid unexpected side effects or conflicts with other parts of the codebase."
   ]
  },
  {
   "cell_type": "markdown",
   "id": "019bdc8c",
   "metadata": {},
   "source": [
    "# 3. What is the difference between a shallow copy and deep copy?"
   ]
  },
  {
   "cell_type": "markdown",
   "id": "871cfc64",
   "metadata": {},
   "source": [
    "The difference between a shallow copy and a deep copy lies in how they create copies of objects.\n",
    "\n",
    "Shallow Copy:\n",
    "- A shallow copy creates a new object but references the same memory addresses as the original object.\n",
    "- Changes made to the copy will reflect in the original object and vice versa.\n",
    "- In a shallow copy, mutable objects within the original object are shared between the copy and the original.\n",
    "- Shallow copy is a faster operation compared to deep copy.\n",
    "\n",
    "Deep Copy:\n",
    "- A deep copy creates a new object and recursively copies all objects found within the original object.\n",
    "- The copied object and the original object are completely independent of each other.\n",
    "- Changes made to the copy will not affect the original object, and vice versa.\n",
    "- Deep copy creates copies of all mutable objects within the original object, ensuring complete separation between the copy and the original.\n",
    "- Deep copy is a slower operation compared to shallow copy.\n"
   ]
  },
  {
   "cell_type": "markdown",
   "id": "cd2450ab",
   "metadata": {},
   "source": [
    "# 4. What is the maximum possible length of an identifier?"
   ]
  },
  {
   "cell_type": "markdown",
   "id": "1aaf273c",
   "metadata": {},
   "source": [
    "In Python, the maximum possible length of an identifier is not explicitly defined. However, the Python Style Guide (PEP 8) recommends keeping identifiers (variable names, function names, etc.) limited to a maximum of 79 characters for readability purposes."
   ]
  },
  {
   "cell_type": "markdown",
   "id": "d46ac990",
   "metadata": {},
   "source": [
    "# 5. What is generator comprehension?"
   ]
  },
  {
   "cell_type": "markdown",
   "id": "c3cc3745",
   "metadata": {},
   "source": [
    "Generator comprehension, also known as generator expression, is a concise way to create generators in Python. It is similar to list comprehensions but uses parentheses () instead of brackets [].\n",
    "\n",
    "A generator comprehension generates values on-the-fly instead of creating a complete list in memory. It is an efficient way to iterate over large datasets or when memory usage is a concern."
   ]
  },
  {
   "cell_type": "code",
   "execution_count": 2,
   "id": "30caae01",
   "metadata": {},
   "outputs": [],
   "source": [
    "even_nums = (x for x in range(10) if x % 2 == 0)"
   ]
  }
 ],
 "metadata": {
  "kernelspec": {
   "display_name": "Python 3 (ipykernel)",
   "language": "python",
   "name": "python3"
  },
  "language_info": {
   "codemirror_mode": {
    "name": "ipython",
    "version": 3
   },
   "file_extension": ".py",
   "mimetype": "text/x-python",
   "name": "python",
   "nbconvert_exporter": "python",
   "pygments_lexer": "ipython3",
   "version": "3.9.13"
  }
 },
 "nbformat": 4,
 "nbformat_minor": 5
}
