{
 "cells": [
  {
   "cell_type": "markdown",
   "id": "185b80f1",
   "metadata": {},
   "source": [
    "#  Assignment 1"
   ]
  },
  {
   "cell_type": "markdown",
   "id": "0dcef26e",
   "metadata": {},
   "source": [
    "### 1. In the below elements which of them are values or an expression? eg:- values can be integer or string and expressions will be mathematical operators.\n",
    "\n",
    "`*`,`'hello'`, `-87.8`,`-`,`/`,`+`,`6`"
   ]
  },
  {
   "cell_type": "markdown",
   "id": "824b20df",
   "metadata": {},
   "source": [
    "**Ans:** \n",
    "\n",
    "**6** = `integar`\n",
    "\n",
    "**hello** = `string`\n",
    "\n",
    "**-87.8** = `float`\n",
    "\n",
    "**-, *, /, +** = `expression`"
   ]
  },
  {
   "cell_type": "markdown",
   "id": "bff4aa19",
   "metadata": {},
   "source": [
    "### 2. What is the difference between string and variable? <br>\n",
    "**Ans:** A `Variable` stores information and a `String` is a type of information which I can store in a variable. A String is a group of characters or a single character usually enclosed in Double quotes `\" \"` and Single quotes `' '`."
   ]
  },
  {
   "cell_type": "markdown",
   "id": "9aab21a7",
   "metadata": {},
   "source": [
    "### 3. Describe three different Data Types ? <br>\n",
    "**Ans:** Data types in python are `int`,`'float`,`boolean`,`complex`. <br>\n",
    "**•** **int data type:** We can use int data type to represent whole numbers. <br> **Example:** `58`,`36`.<br>\n",
    "**•** **flaot data type:** We can use flaot data type to represent decimal numbers. <br> **Example:** `78.25`,`32.24`.<br>\n",
    "**•** **complex data type:** We can use complex data type to represent complex class, It's specified as (real part) + (imaginary part)j. <br> **Example:** `12+5j`,`42+26j`."
   ]
  },
  {
   "cell_type": "code",
   "execution_count": 1,
   "id": "a1ce348f",
   "metadata": {},
   "outputs": [
    {
     "name": "stdout",
     "output_type": "stream",
     "text": [
      "2368 <class 'int'>\n",
      "2573.12 <class 'float'>\n",
      "(52+7.5j) <class 'complex'>\n"
     ]
    }
   ],
   "source": [
    "# Example for int data type\n",
    "int_num=2368\n",
    "print(int_num, type(int_num))\n",
    "# Example for float data type\n",
    "flo_num=2573.12\n",
    "print(flo_num, type(flo_num))\n",
    "# Example for Complex data type\n",
    "com_num=52+7.5j\n",
    "print(com_num, type(com_num))"
   ]
  },
  {
   "cell_type": "markdown",
   "id": "971bf974",
   "metadata": {},
   "source": [
    "### 4. What is an expression made up of? What do all expressions do? <br> \n",
    "**Ans:** A mix of values, variables, operators, and function calls makes up an expression. Expressions must be assessed. When an expression is requested to be printed in Python, the interpreter tests the expression and outputs the result.\n"
   ]
  },
  {
   "cell_type": "code",
   "execution_count": 2,
   "id": "19782f8b",
   "metadata": {},
   "outputs": [
    {
     "data": {
      "text/plain": [
       "0"
      ]
     },
     "execution_count": 2,
     "metadata": {},
     "output_type": "execute_result"
    }
   ],
   "source": [
    "4*5+20-40 # Is an Expression, The Python Interpreter Evaluates it to 0"
   ]
  },
  {
   "cell_type": "markdown",
   "id": "005eb996",
   "metadata": {},
   "source": [
    "### 5.This assignment statements, like spam = 10. What is the difference between an expression and a statement? <br>\n",
    "\n",
    "**Ans:** An expression is a combination of values, variables, and operators.When we type an expression at the prompt, the interpreter evaluates it, which means that it finds the value of the expression.\n",
    "\n",
    "**eg:** 4*5+20-40 is an example of a statement\n",
    "\n",
    "A statement is a unit of code that has an effect, like creating a variable or displaying a value.When we type a statement, the interpreter executes it, which means that it does whatever the statement says. In general, statements don’t have values.\n",
    "\n",
    "**eg:** variable declaration and assignment are statements because they do not return a value"
   ]
  },
  {
   "cell_type": "code",
   "execution_count": 3,
   "id": "ed483417",
   "metadata": {},
   "outputs": [
    {
     "name": "stdout",
     "output_type": "stream",
     "text": [
      "Hello World!!\n"
     ]
    }
   ],
   "source": [
    "#Example:\n",
    "4*5+20-40 # Is a Expression\n",
    "courseName = 'INeuron FullStack Data Science' # Is a Statement\n",
    "print(\"Hello World!!\") # Is a Expression Statement"
   ]
  },
  {
   "cell_type": "markdown",
   "id": "cda428d2",
   "metadata": {},
   "source": [
    "### 6.After running the following code, what does the variable bacon contain? <br>\n",
    "\n",
    "`bacon = 22` <br>\n",
    "`bacon + 1` <br>\n",
    "\n",
    "**Ans:** The variable bacon is set to 22 .The expression bacon + 1 does not reassign the value in bacon (that would the case if the expression is like bacon = bacon + 1 instead of bacon + 1)"
   ]
  },
  {
   "cell_type": "code",
   "execution_count": 4,
   "id": "ec998da3",
   "metadata": {},
   "outputs": [
    {
     "name": "stdout",
     "output_type": "stream",
     "text": [
      "22\n"
     ]
    }
   ],
   "source": [
    "# Example Case#1\n",
    "bacon=22\n",
    "bacon+1\n",
    "print(bacon)"
   ]
  },
  {
   "cell_type": "code",
   "execution_count": 5,
   "id": "5b8ae4c2",
   "metadata": {},
   "outputs": [
    {
     "name": "stdout",
     "output_type": "stream",
     "text": [
      "23\n"
     ]
    }
   ],
   "source": [
    "#Example Case#2\n",
    "bacon=22\n",
    "bacon=bacon+1 \n",
    "print(bacon)"
   ]
  },
  {
   "cell_type": "markdown",
   "id": "85082987",
   "metadata": {},
   "source": [
    "### 7.What should the values of the following two terms be?\n",
    "\n",
    "`'spam'+'spamspam'` <br> \n",
    "`'spam'*3` <br>\n",
    "\n",
    "**Ans:** Both expressions evaluate to the string `'spamspamspam'` Where as the first expression follows `String Concatentation` and the second expression follows `String Multiplication`."
   ]
  },
  {
   "cell_type": "code",
   "execution_count": 6,
   "id": "dc8e8e54",
   "metadata": {},
   "outputs": [
    {
     "name": "stdout",
     "output_type": "stream",
     "text": [
      "spamspamspam\n",
      "spamspamspam\n"
     ]
    }
   ],
   "source": [
    "print('spam'+'spamspam') # string concatenation\n",
    "print('spam'*3) # string multiplication"
   ]
  },
  {
   "cell_type": "markdown",
   "id": "f3174586",
   "metadata": {},
   "source": [
    "### 8. Why is eggs a valid variable name while 100 is invalid? <br>\n",
    "**Ans:** As per python,Variable names cannot begin with a number. The python rules for naming a variable are :-<br>\n",
    "\n",
    "**•** Variable name must start with a letter or the underscore character.<br>\n",
    "**•** Variable name cannot start with a number.<br>\n",
    "**•** Variable name can only contain alpha-numeric characters and underscores (A-z, 0-9, & _ ).<br>\n",
    "**•** Variable names are case-sensitive (name, INEURON and ineuron are three different variables).<br>\n",
    "**•** The reserved words(keywords) cannot be used naming the variable."
   ]
  },
  {
   "cell_type": "code",
   "execution_count": 7,
   "id": "77d5e3f5",
   "metadata": {},
   "outputs": [
    {
     "ename": "SyntaxError",
     "evalue": "cannot assign to literal (<ipython-input-7-dbb106b946bd>, line 2)",
     "output_type": "error",
     "traceback": [
      "\u001b[1;36m  File \u001b[1;32m\"<ipython-input-7-dbb106b946bd>\"\u001b[1;36m, line \u001b[1;32m2\u001b[0m\n\u001b[1;33m    100='hello' # Invalid Variable Initilization\u001b[0m\n\u001b[1;37m    ^\u001b[0m\n\u001b[1;31mSyntaxError\u001b[0m\u001b[1;31m:\u001b[0m cannot assign to literal\n"
     ]
    }
   ],
   "source": [
    "egg='Ineuron' # Valid variable Initilization\n",
    "100='hello' # Invalid Variable Initilization\n",
    "print(egg) #prints the value of egg ie Ineuron\n",
    "print(100) # Raises a Syntax Error as 100 is not a valid variable name"
   ]
  },
  {
   "cell_type": "markdown",
   "id": "7f9ffc30",
   "metadata": {},
   "source": [
    "### 9.What three functions can be used to get the integer,floating-point number,or string version of a value? <br> \n",
    "**Ans:** The `int()`,`float()`,and `str()` functions will evaluate to the integer,floating-point number,string version of the value passed to them."
   ]
  },
  {
   "cell_type": "code",
   "execution_count": 8,
   "id": "c42105c1",
   "metadata": {},
   "outputs": [
    {
     "name": "stdout",
     "output_type": "stream",
     "text": [
      "int(10.0) ->  10\n",
      "float(10) ->  10.0\n",
      "str(10) ->  10\n"
     ]
    }
   ],
   "source": [
    "# Examples:\n",
    "print('int(10.0) -> ',int(10.0)) # int() function converts given input to int\n",
    "print('float(10) -> ',float(10)) # float() function converts given input to float\n",
    "print('str(10) -> ',str(10)) # str() function converts given input to string"
   ]
  },
  {
   "cell_type": "markdown",
   "id": "fff2b9c4",
   "metadata": {},
   "source": [
    "### 10.Why does this expression cause an error? how can you fix it? <br> \n",
    "`'I have eaten ' + 99 + 'burritos.'` <br>\n",
    "**Ans:** This cause of error is 99.because 99 is not a string. 99 must be typecasted to a string to fix this error. the correct way is: <br>\n",
    "**Input:** `'I have eaten ' + str(99) + 'burritos.'` <br>\n",
    "**Output:** `'I have eaten 99 burritos.'`"
   ]
  },
  {
   "cell_type": "code",
   "execution_count": 9,
   "id": "38052036",
   "metadata": {},
   "outputs": [
    {
     "name": "stdout",
     "output_type": "stream",
     "text": [
      "I have eaten 99 burritos\n"
     ]
    }
   ],
   "source": [
    "print('I have eaten '+str(99)+' burritos')"
   ]
  },
  {
   "cell_type": "code",
   "execution_count": null,
   "id": "e45508a1",
   "metadata": {},
   "outputs": [],
   "source": []
  }
 ],
 "metadata": {
  "kernelspec": {
   "display_name": "Python 3",
   "language": "python",
   "name": "python3"
  },
  "language_info": {
   "codemirror_mode": {
    "name": "ipython",
    "version": 3
   },
   "file_extension": ".py",
   "mimetype": "text/x-python",
   "name": "python",
   "nbconvert_exporter": "python",
   "pygments_lexer": "ipython3",
   "version": "3.8.8"
  }
 },
 "nbformat": 4,
 "nbformat_minor": 5
}
