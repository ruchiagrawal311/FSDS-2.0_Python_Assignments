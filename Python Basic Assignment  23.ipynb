{
 "cells": [
  {
   "cell_type": "markdown",
   "id": "2d405092",
   "metadata": {},
   "source": [
    "# 1. What is the result of the code, and why?\n",
    "&gt;&gt;&gt; def func(a, b=6, c=8): <br>\n",
    "print(a, b, c) <br>\n",
    "&gt;&gt;&gt; func(1, 2) <br>"
   ]
  },
  {
   "cell_type": "code",
   "execution_count": 1,
   "id": "35c74664",
   "metadata": {},
   "outputs": [
    {
     "name": "stdout",
     "output_type": "stream",
     "text": [
      "1 2 8\n"
     ]
    }
   ],
   "source": [
    "def func(a,b=6,c=8):\n",
    "    print(a,b,c)\n",
    "func(1,2)"
   ]
  },
  {
   "cell_type": "markdown",
   "id": "a5eef448",
   "metadata": {},
   "source": [
    "In this code, there is a function called func() that takes three parameters: a, b, and c. The parameter b and c have default values assigned to them, so they are optional arguments.\n",
    "\n",
    "When calling func(1, 2), the argument 1 is assigned to the parameter a, and the argument 2 is assigned to the parameter b. Since c is not provided as an argument, it takes its default value of 8.\n",
    "\n",
    "The print(a, b, c) statement inside the function func() prints the values of a, b, and c. Therefore, the output will be 1 2 8, indicating the values of the arguments passed to the function."
   ]
  },
  {
   "cell_type": "markdown",
   "id": "b858e484",
   "metadata": {},
   "source": [
    "# 2. What is the result of this code, and why?\n",
    "&gt;&gt;&gt; def func(a, b, c=5): <br>\n",
    "print(a, b, c) <br>\n",
    "&gt;&gt;&gt; func(1, c=3, b=2)"
   ]
  },
  {
   "cell_type": "code",
   "execution_count": 2,
   "id": "5fe2bf8f",
   "metadata": {},
   "outputs": [
    {
     "name": "stdout",
     "output_type": "stream",
     "text": [
      "1 2 3\n"
     ]
    }
   ],
   "source": [
    "def func(a,b,c=5):\n",
    "    print(a,b,c)\n",
    "func(1,c=3,b=2)"
   ]
  },
  {
   "cell_type": "markdown",
   "id": "a8135fcc",
   "metadata": {},
   "source": [
    "In this code, there is a function called func() that takes three parameters: a, b, and c. The parameter c has a default value of 5.\n",
    "\n",
    "When calling func(1, c=3, b=2), the argument 1 is assigned to the parameter a. The keyword arguments c=3 and b=2 explicitly specify the values for the parameters c and b, respectively.\n",
    "\n",
    "Since the arguments are explicitly assigned using keyword arguments, the order of the arguments doesn't matter. The function will match the arguments based on their parameter names.\n",
    "\n",
    "The print(a, b, c) statement inside the function func() prints the values of a, b, and c. Therefore, the output will be 1 2 3, indicating the values of the arguments passed to the function."
   ]
  },
  {
   "cell_type": "markdown",
   "id": "c218b847",
   "metadata": {},
   "source": [
    "# 3. How about this code: what is its result, and why?\n",
    "&gt;&gt;&gt; def func(a, *pargs): <br>\n",
    "print(a, pargs) <br>\n",
    "&gt;&gt;&gt; func(1, 2, 3)"
   ]
  },
  {
   "cell_type": "code",
   "execution_count": 3,
   "id": "4baa7134",
   "metadata": {},
   "outputs": [
    {
     "name": "stdout",
     "output_type": "stream",
     "text": [
      "1 (2, 3)\n"
     ]
    }
   ],
   "source": [
    "def func(a, *pargs):\n",
    "    print(a,pargs)\n",
    "func(1,2,3)"
   ]
  },
  {
   "cell_type": "markdown",
   "id": "627613fe",
   "metadata": {},
   "source": [
    "In this code, there is a function called func() that takes a required parameter a and *pargs which is a tuple parameter. The *pargs parameter allows the function to accept any number of additional positional arguments after the first required argument a.\n",
    "\n",
    "When calling func(1, 2, 3), the argument 1 is assigned to the parameter a, and the additional arguments 2 and 3 are collected into a tuple and assigned to the pargs parameter.\n",
    "\n",
    "The print(a, pargs) statement inside the function func() prints the value of a and the tuple pargs. Therefore, the output will be 1 (2, 3), indicating that a is 1 and pargs is a tuple containing the values (2, 3)."
   ]
  },
  {
   "cell_type": "markdown",
   "id": "ca9edfd8",
   "metadata": {},
   "source": [
    "# 4. What does this code print, and why?\n",
    "&gt;&gt;&gt; def func(a, **kargs): <br>\n",
    "print(a, kargs) <br>\n",
    "&gt;&gt;&gt; func(a=1, c=3, b=2) "
   ]
  },
  {
   "cell_type": "code",
   "execution_count": 4,
   "id": "0be5bc58",
   "metadata": {},
   "outputs": [
    {
     "name": "stdout",
     "output_type": "stream",
     "text": [
      "1 {'c': 3, 'b': 2}\n"
     ]
    }
   ],
   "source": [
    "def func(a,**kargs):\n",
    "    print(a,kargs)\n",
    "func(a=1,c=3,b=2)"
   ]
  },
  {
   "cell_type": "markdown",
   "id": "46c0afda",
   "metadata": {},
   "source": [
    "In this code, there is a function called func() that takes a required parameter a and **kargs which is a dictionary parameter. The kargs parameter allows the function to accept any number of additional keyword arguments after the first required argument a.\n",
    "\n",
    "When calling func(a=1, c=3, b=2), the keyword arguments c=3 and b=2 are collected into a dictionary and assigned to the kargs parameter. The a=1 argument is assigned to the parameter a.\n",
    "\n",
    "The print(a, kargs) statement inside the function func() prints the value of a and the dictionary kargs. Therefore, the output will be 1 {'c': 3, 'b': 2}, indicating that a is 1 and kargs is a dictionary containing the key-value pairs {'c': 3, 'b': 2}."
   ]
  },
  {
   "cell_type": "markdown",
   "id": "b29cfb82",
   "metadata": {},
   "source": [
    "# 5. What gets printed by this, and explain?\n",
    "&gt;&gt;&gt; def func(a, b, c=8, d=5): \n",
    "print(a, b, c, d) <br>.\n",
    "&gt;&gt;&gt; func(1, *(5, 6))"
   ]
  },
  {
   "cell_type": "code",
   "execution_count": 5,
   "id": "e8a28f8e",
   "metadata": {},
   "outputs": [
    {
     "name": "stdout",
     "output_type": "stream",
     "text": [
      "1 5 6 5\n"
     ]
    }
   ],
   "source": [
    "def func(a,b,c=8,d=5):\n",
    "    print(a,b,c,d)\n",
    "func(1,*(5,6))"
   ]
  },
  {
   "cell_type": "markdown",
   "id": "37680bd7",
   "metadata": {},
   "source": [
    "In this code, there is a function called func() that takes four parameters: a, b, c, and d. The parameters c and d have default values of 8 and 5 respectively.\n",
    "\n",
    "When calling func(1, *(5, 6)), the argument 1 is assigned to the parameter a. The *(5, 6) syntax is known as \"unpacking\" the tuple (5, 6). It means that the elements of the tuple will be unpacked and passed as separate arguments to the function. So, 5 is assigned to b and 6 is assigned to c.\n",
    "\n",
    "Since no value is provided for the parameter d, it takes its default value of 5.\n",
    "\n",
    "The print(a, b, c, d) statement inside the function func() prints the values of a, b, c, and d. Therefore, the output will be 1 5 6 5, indicating the values of the arguments passed to the function."
   ]
  },
  {
   "cell_type": "markdown",
   "id": "3bdf52ad",
   "metadata": {},
   "source": [
    "# 6. what is the result of this, and explain?\n",
    "&gt;&gt;&gt; def func(a, b, c): a = 2; b[0] = &#39;x&#39;; c[&#39;a&#39;] = &#39;y&#39; <br>\n",
    "&gt;&gt;&gt; l=1; m=[1]; n={&#39;a&#39;:0} <br>\n",
    "&gt;&gt;&gt; func(l, m, n)<br>\n",
    "\n",
    "&gt;&gt;&gt; l, m, n"
   ]
  },
  {
   "cell_type": "code",
   "execution_count": 6,
   "id": "9b79b097",
   "metadata": {},
   "outputs": [
    {
     "data": {
      "text/plain": [
       "(1, ['x'], {'a': 'y'})"
      ]
     },
     "execution_count": 6,
     "metadata": {},
     "output_type": "execute_result"
    }
   ],
   "source": [
    "def func(a, b, c): a = 2; b[0] = 'x'; c['a'] = 'y'\n",
    "l=1; m=[1]; n={'a':0}\n",
    "func(l, m, n)\n",
    "l,m,n"
   ]
  },
  {
   "cell_type": "markdown",
   "id": "4d6f4e6d",
   "metadata": {},
   "source": [
    "In this code, there is a function called func() that takes three parameters: a, b, and c. Inside the function, the value of a is reassigned to 2, the first element of list b is modified to 'x', and the value associated with the key 'a' in dictionary c is modified to 'y'.\n",
    "\n",
    "Before calling the function, the variables l, m, and n are assigned the values 1, [1], and {'a': 0} respectively.\n",
    "\n",
    "When calling func(l, m, n), the values of l, m, and n are passed as arguments to the function. However, it's important to note that a is an immutable integer, b is a mutable list, and c is a mutable dictionary.\n",
    "\n",
    "Inside the function, the reassignment a = 2 does not affect the original value of l since a is a separate variable that only exists within the function's scope.\n",
    "\n",
    "However, the modification b[0] = 'x' changes the first element of the list m to 'x' because lists are mutable objects and the function is modifying the list in-place.\n",
    "\n",
    "Similarly, the modification c['a'] = 'y' changes the value associated with the key 'a' in the dictionary n to 'y' because dictionaries are also mutable objects and the function is modifying the dictionary in-place.\n",
    "\n",
    "After calling the function, the values of l, m, and n are printed. Therefore, the output will be 1 ['x'] {'a': 'y'}, reflecting the modifications made to the list m and the dictionary n inside the function."
   ]
  }
 ],
 "metadata": {
  "kernelspec": {
   "display_name": "Python 3 (ipykernel)",
   "language": "python",
   "name": "python3"
  },
  "language_info": {
   "codemirror_mode": {
    "name": "ipython",
    "version": 3
   },
   "file_extension": ".py",
   "mimetype": "text/x-python",
   "name": "python",
   "nbconvert_exporter": "python",
   "pygments_lexer": "ipython3",
   "version": "3.9.13"
  }
 },
 "nbformat": 4,
 "nbformat_minor": 5
}
