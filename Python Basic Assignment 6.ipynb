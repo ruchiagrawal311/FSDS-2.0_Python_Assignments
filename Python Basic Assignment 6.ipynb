{
 "cells": [
  {
   "cell_type": "markdown",
   "id": "ddbdd5e4",
   "metadata": {},
   "source": [
    " # 1. What are escape characters, and how do you use them?"
   ]
  },
  {
   "cell_type": "markdown",
   "id": "9d802233",
   "metadata": {},
   "source": [
    "<b>Ans: </b> Escape characters represent characters in string values that would otherwise be difficult or impossible to type into code. we can use the backslash character to escape a single character or symbol. <br>\n",
    "<b>example: </b> \\t, \\n"
   ]
  },
  {
   "cell_type": "markdown",
   "id": "17f531bd",
   "metadata": {},
   "source": [
    "# 2. What do the escape characters n and t stand for?"
   ]
  },
  {
   "cell_type": "markdown",
   "id": "acaa3121",
   "metadata": {},
   "source": [
    "<b>Ans:</b> \\n is a newline, \\t is a tab."
   ]
  },
  {
   "cell_type": "markdown",
   "id": "5e1d8b8c",
   "metadata": {},
   "source": [
    "# 3. What is the way to include backslash characters in a string?"
   ]
  },
  {
   "cell_type": "markdown",
   "id": "8734cc3e",
   "metadata": {},
   "source": [
    "<b>Ans: </b>The \\\\ escape character will represent the backslash character in a string."
   ]
  },
  {
   "cell_type": "markdown",
   "id": "183fb77e",
   "metadata": {},
   "source": [
    "# 4. The string &quot;Howl&#39;s Moving Castle&quot; is a correct value. Why isn&#39;t the single quote character in the word Howl&#39;s not escaped a problem?"
   ]
  },
  {
   "cell_type": "markdown",
   "id": "aef67bbf",
   "metadata": {},
   "source": [
    "<b>Ans: </b> The string \"Howl's Moving Castle\" escaped the problem because it is wrapped inside double quotes. if its wrapped inside single quotes then we have to use escape character \\' to show single quote in the final output\n",
    "'Howl\\'s Moving Castle' -> 'Howl's Moving Castle'"
   ]
  },
  {
   "cell_type": "markdown",
   "id": "5f016f08",
   "metadata": {},
   "source": [
    "# 5. How do you write a string of newlines if you don&#39;t want to use the n character?"
   ]
  },
  {
   "cell_type": "markdown",
   "id": "cc3fccce",
   "metadata": {},
   "source": [
    "<b>Ans: </b>Multiline string allow you to use newlines in string without the \\n escape character."
   ]
  },
  {
   "cell_type": "code",
   "execution_count": 5,
   "id": "27a5abf5",
   "metadata": {},
   "outputs": [
    {
     "name": "stdout",
     "output_type": "stream",
     "text": [
      "iNeuron full stack\n",
      "Data Science Course\n"
     ]
    }
   ],
   "source": [
    "# Example:\n",
    "a = '''iNeuron full stack\n",
    "Data Science Course'''\n",
    "print(a)"
   ]
  },
  {
   "cell_type": "markdown",
   "id": "a951e44b",
   "metadata": {},
   "source": [
    "# 6. What are the values of the given expressions? <br> &#39;Hello, world!&#39;[1] <br> &#39;Hello, world!&#39;[0:5] <br>&#39;Hello, world!&#39;[:5] <br> &#39;Hello, world!&#39;[3:]"
   ]
  },
  {
   "cell_type": "markdown",
   "id": "1ced8ab8",
   "metadata": {},
   "source": [
    "<b>Ans: </b> The values for the given expressions are: <br>\n",
    "'Hello, world!'[1] -> 'e'  <br>\n",
    "'Hello, world!'[0:5] -> 'Hello' <br>\n",
    "'Hello, world!'[:5] -> 'Hello' <br>\n",
    "'Hello, world!'[3:] -> 'lo, world!' <br>"
   ]
  },
  {
   "cell_type": "markdown",
   "id": "5bf293c1",
   "metadata": {},
   "source": [
    "# 7. What are the values of the following expressions? <br> &#39;Hello&#39;.upper() <br> &#39;Hello&#39;.upper().isupper() <br> &#39;Hello&#39;.upper().lower() <br>\n"
   ]
  },
  {
   "cell_type": "code",
   "execution_count": 6,
   "id": "5841dacc",
   "metadata": {},
   "outputs": [
    {
     "data": {
      "text/plain": [
       "'HELLO'"
      ]
     },
     "execution_count": 6,
     "metadata": {},
     "output_type": "execute_result"
    }
   ],
   "source": [
    "##Ans: The values for the given expressions are: \n",
    "'Hello'.upper() "
   ]
  },
  {
   "cell_type": "code",
   "execution_count": 7,
   "id": "456ad3af",
   "metadata": {},
   "outputs": [
    {
     "data": {
      "text/plain": [
       "True"
      ]
     },
     "execution_count": 7,
     "metadata": {},
     "output_type": "execute_result"
    }
   ],
   "source": [
    "'Hello'.upper().isupper() "
   ]
  },
  {
   "cell_type": "code",
   "execution_count": 8,
   "id": "a701a474",
   "metadata": {},
   "outputs": [
    {
     "data": {
      "text/plain": [
       "'hello'"
      ]
     },
     "execution_count": 8,
     "metadata": {},
     "output_type": "execute_result"
    }
   ],
   "source": [
    "'Hello'.upper().lower()"
   ]
  },
  {
   "cell_type": "markdown",
   "id": "56a65604",
   "metadata": {},
   "source": [
    "# 8. What are the values of the following expressions? <br> &#39;Remember, remember, the fifth of July.&#39;.split() <br> &#39;-&#39;.join(&#39;There can only one.&#39;.split())  <br>\n"
   ]
  },
  {
   "cell_type": "markdown",
   "id": "76c87d8d",
   "metadata": {},
   "source": [
    "<b>Ans: </b> The values for the given expressions are: <br>\n",
    "'Remember, remember, the fifith of July.'.split() -><b> ['Remember,', 'remember,', 'the', 'fifith', 'of', 'July.']</b> <br>\n",
    "'-'.join('There can only one'.split()) -> <b>'There-can-only-one'</b>"
   ]
  },
  {
   "cell_type": "markdown",
   "id": "580423d0",
   "metadata": {},
   "source": [
    "# 9. What are the methods for right-justifying, left-justifying, and centering a string?"
   ]
  },
  {
   "cell_type": "markdown",
   "id": "c07cfaaf",
   "metadata": {},
   "source": [
    "<b>Ans: </b>The rjust(),ljust(),center() string methods, respectively."
   ]
  },
  {
   "cell_type": "markdown",
   "id": "955878c6",
   "metadata": {},
   "source": [
    "# 10. What is the best way to remove whitespace characters from the start or end?"
   ]
  },
  {
   "cell_type": "markdown",
   "id": "129fd187",
   "metadata": {},
   "source": [
    "<b>Ans: </b>The lstrip() and rstrip() methods remove whitesapce characters from the left and right ends of a string respectively."
   ]
  }
 ],
 "metadata": {
  "kernelspec": {
   "display_name": "Python 3 (ipykernel)",
   "language": "python",
   "name": "python3"
  },
  "language_info": {
   "codemirror_mode": {
    "name": "ipython",
    "version": 3
   },
   "file_extension": ".py",
   "mimetype": "text/x-python",
   "name": "python",
   "nbconvert_exporter": "python",
   "pygments_lexer": "ipython3",
   "version": "3.9.13"
  }
 },
 "nbformat": 4,
 "nbformat_minor": 5
}
