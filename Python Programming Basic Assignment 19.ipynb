{
 "cells": [
  {
   "cell_type": "markdown",
   "id": "7b3cecc3",
   "metadata": {},
   "source": [
    "# Question1\n",
    "Create a function that takes a string and returns a string in which each character is repeated <br>\n",
    "once. <br>\n",
    "Examples <br>\n",
    "double_char(&quot;String&quot;) ➞ &quot;SSttrriinngg&quot; <br>\n",
    "double_char(&quot;Hello World!&quot;) ➞ &quot;HHeelllloo WWoorrlldd!!&quot; <br>\n",
    "double_char(&quot;1234!_ &quot;) ➞ &quot;11223344!!__ &quot; <br>"
   ]
  },
  {
   "cell_type": "code",
   "execution_count": 1,
   "id": "d7759bda",
   "metadata": {},
   "outputs": [
    {
     "name": "stdout",
     "output_type": "stream",
     "text": [
      "double_char(\"String\") ➞ SSttrriinngg\n",
      "double_char(\"Hello World!\") ➞ HHeelllloo  WWoorrlldd!!\n",
      "double_char(\"1234!_ \") ➞ 11223344!!__  \n"
     ]
    }
   ],
   "source": [
    "def double_char(txt):\n",
    "    doubled_txt = \"\"\n",
    "    for char in txt:\n",
    "        doubled_txt += char * 2\n",
    "    return doubled_txt\n",
    "\n",
    "print(f'double_char(\"String\") ➞ {double_char(\"String\")}' )  \n",
    "print(f'double_char(\"Hello World!\") ➞ {double_char(\"Hello World!\")}')  \n",
    "print(f'double_char(\"1234!_ \") ➞ {double_char(\"1234!_ \")}')  \n"
   ]
  },
  {
   "cell_type": "markdown",
   "id": "b54062b2",
   "metadata": {},
   "source": [
    "# Question2\n",
    "Create a function that reverses a boolean value and returns the string &quot;boolean expected&quot; <br>\n",
    "if another variable type is given. <br>\n",
    "Examples <br>\n",
    "reverse(True) ➞ False <br>\n",
    "reverse(False) ➞ True <br>\n",
    "reverse(0) ➞ &quot;boolean expected&quot; <br>\n",
    "reverse(None) ➞ &quot;boolean expected&quot; <br>"
   ]
  },
  {
   "cell_type": "code",
   "execution_count": 2,
   "id": "75c6c4f5",
   "metadata": {},
   "outputs": [
    {
     "name": "stdout",
     "output_type": "stream",
     "text": [
      "reverse_boolean(True) ➞ False\n",
      "reverse_boolean(False) ➞ True\n",
      "reverse_boolean(0) ➞ boolean expected\n",
      "reverse_boolean(\"True\") ➞ boolean expected\n",
      "reverse_boolean(None) ➞ boolean expected\n"
     ]
    }
   ],
   "source": [
    "def reverse_boolean(value):\n",
    "    if isinstance(value, bool):\n",
    "        return not value\n",
    "    else:\n",
    "        return \"boolean expected\"\n",
    "\n",
    "print(f'reverse_boolean(True) ➞ {reverse_boolean(True)}' )  \n",
    "print(f'reverse_boolean(False) ➞ {reverse_boolean(False)}')  \n",
    "print(f'reverse_boolean(0) ➞ {reverse_boolean(0)}') \n",
    "print(f'reverse_boolean(\"True\") ➞ {reverse_boolean(\"True\")}') \n",
    "print(f'reverse_boolean(None) ➞ {reverse_boolean(None)}') \n"
   ]
  },
  {
   "cell_type": "markdown",
   "id": "eead1bdc",
   "metadata": {},
   "source": [
    "# Question3\n",
    "Create a function that returns the thickness (in meters) of a piece of paper after folding it n <br>\n",
    "number of times. The paper starts off with a thickness of 0.5mm. <br>\n",
    "Examples <br>\n",
    "num_layers(1) ➞ &quot;0.001m&quot; <br>\n",
    "# Paper folded once is 1mm (equal to 0.001m) <br>\n",
    "num_layers(4) ➞ &quot;0.008m&quot; <br>\n",
    "# Paper folded 4 times is 8mm (equal to 0.008m) <br>\n",
    "num_layers(21) ➞ &quot;1048.576m&quot; <br>\n",
    "# Paper folded 21 times is 1048576mm (equal to 1048.576m) <br>"
   ]
  },
  {
   "cell_type": "code",
   "execution_count": 3,
   "id": "c54abb37",
   "metadata": {},
   "outputs": [
    {
     "name": "stdout",
     "output_type": "stream",
     "text": [
      "num_layers(1) ➞ 1.0m\n",
      "num_layers(4) ➞ 8.0m\n",
      "num_layers(21) ➞ 1048576.0m\n"
     ]
    }
   ],
   "source": [
    "def num_layers(num_folds):\n",
    "    initial_thickness = 0.5\n",
    "    thickness = initial_thickness * 2 ** num_folds\n",
    "    return f\"{thickness}m\"\n",
    "\n",
    "print(f'num_layers(1) ➞ {num_layers(1)}' )  \n",
    "print(f'num_layers(4) ➞ {num_layers(4)}')  \n",
    "print(f'num_layers(21) ➞ {num_layers(21)}')  \n"
   ]
  },
  {
   "cell_type": "markdown",
   "id": "ad258403",
   "metadata": {},
   "source": [
    "# Question4\n",
    "\n",
    "Create a function that takes a single string as argument and returns an ordered list containing <br>\n",
    "the indices of all capital letters in the string. <br>\n",
    "Examples <br>\n",
    "index_of_caps(&quot;eDaBiT&quot;) ➞ [1, 3, 5] <br>\n",
    "index_of_caps(&quot;eQuINoX&quot;) ➞ [1, 3, 4, 6] <br>\n",
    "index_of_caps(&quot;determine&quot;) ➞ [] <br>\n",
    "index_of_caps(&quot;STRIKE&quot;) ➞ [0, 1, 2, 3, 4, 5] <br>\n",
    "index_of_caps(&quot;sUn&quot;) ➞ [1] <br>"
   ]
  },
  {
   "cell_type": "code",
   "execution_count": 5,
   "id": "532019bd",
   "metadata": {},
   "outputs": [
    {
     "name": "stdout",
     "output_type": "stream",
     "text": [
      "[1, 3, 5]\n",
      "[1, 3, 4, 6]\n",
      "[]\n",
      "[0, 1, 2, 3, 4, 5]\n",
      "[1]\n"
     ]
    }
   ],
   "source": [
    "def index_of_caps(word):\n",
    "    indices = []\n",
    "    for i, char in enumerate(word):\n",
    "        if char.isupper():\n",
    "            indices.append(i)\n",
    "    return indices\n",
    "print(index_of_caps(\"eDaBiT\"))  \n",
    "print(index_of_caps(\"eQuINoX\"))  \n",
    "print(index_of_caps(\"determine\")) \n",
    "print(index_of_caps(\"STRIKE\"))   \n",
    "print(index_of_caps(\"sUn\"))  \n"
   ]
  },
  {
   "cell_type": "markdown",
   "id": "8392898a",
   "metadata": {},
   "source": [
    "# Question5\n",
    "Using list comprehensions, create a function that finds all even numbers from 1 to the given <br>\n",
    "number. <br>\n",
    "Examples <br>\n",
    "find_even_nums(8) ➞ [2, 4, 6, 8] <br>\n",
    "find_even_nums(4) ➞ [2, 4] <br>\n",
    "find_even_nums(2) ➞ [2] <br>"
   ]
  },
  {
   "cell_type": "code",
   "execution_count": 6,
   "id": "3530e2a7",
   "metadata": {},
   "outputs": [
    {
     "name": "stdout",
     "output_type": "stream",
     "text": [
      "[2, 4, 6, 8]\n",
      "[2, 4]\n",
      "[2]\n"
     ]
    }
   ],
   "source": [
    "def find_even_nums(n):\n",
    "    return [num for num in range(1, n+1) if num % 2 == 0]\n",
    "\n",
    "print(find_even_nums(8)) \n",
    "print(find_even_nums(4)) \n",
    "print(find_even_nums(2))  \n"
   ]
  }
 ],
 "metadata": {
  "kernelspec": {
   "display_name": "Python 3 (ipykernel)",
   "language": "python",
   "name": "python3"
  },
  "language_info": {
   "codemirror_mode": {
    "name": "ipython",
    "version": 3
   },
   "file_extension": ".py",
   "mimetype": "text/x-python",
   "name": "python",
   "nbconvert_exporter": "python",
   "pygments_lexer": "ipython3",
   "version": "3.9.13"
  }
 },
 "nbformat": 4,
 "nbformat_minor": 5
}
