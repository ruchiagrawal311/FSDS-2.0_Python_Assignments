{
 "cells": [
  {
   "cell_type": "markdown",
   "id": "f16b7b91",
   "metadata": {},
   "source": [
    "#  Assignment 4"
   ]
  },
  {
   "cell_type": "markdown",
   "id": "e5292ffa",
   "metadata": {},
   "source": [
    "### 1. What exactly is [ ] ?"
   ]
  },
  {
   "cell_type": "markdown",
   "id": "1ccc7dd6",
   "metadata": {},
   "source": [
    "**Ans:** [ ] are square brackets, which are used to create list in python. When we do not add any elements to the list, we create an empty list."
   ]
  },
  {
   "cell_type": "markdown",
   "id": "f4d4e140",
   "metadata": {},
   "source": [
    "### 2. In a list of values stored in a variable called spam, how would you assign the value 'hello' as the third value? (Assume [2, 4, 6, 8, 10] are in spam.)                                                                                                             \n",
    "### Let's pretend the spam includes the list ['a', 'b', 'c', 'd'] for the next three queries."
   ]
  },
  {
   "cell_type": "markdown",
   "id": "54cafaba",
   "metadata": {},
   "source": [
    "**Ans:**\n",
    "\n",
    "We can use indexing to assign given value at required index."
   ]
  },
  {
   "cell_type": "code",
   "execution_count": 11,
   "id": "6b414a4b",
   "metadata": {},
   "outputs": [
    {
     "name": "stdout",
     "output_type": "stream",
     "text": [
      "[2, 4, 'hello', 8, 10]\n"
     ]
    }
   ],
   "source": [
    "spam =  [2, 4, 6, 8, 10] \n",
    "spam[2] = \"hello\" # replaces 6 with \"hello\"\n",
    "print(spam)\n"
   ]
  },
  {
   "cell_type": "code",
   "execution_count": 12,
   "id": "5d52263e",
   "metadata": {},
   "outputs": [
    {
     "name": "stdout",
     "output_type": "stream",
     "text": [
      "[2, 4, 'hello', 6, 8, 10]\n"
     ]
    }
   ],
   "source": [
    "# we can use insert function, Incase if we don't want to replace element at given index\n",
    "spam =  [2, 4, 6, 8, 10] \n",
    "spam.insert(2, \"hello\") # inserts \"hello\" at index and reorders followed elements\n",
    "print(spam)"
   ]
  },
  {
   "cell_type": "markdown",
   "id": "e0a61bc1",
   "metadata": {},
   "source": [
    "### 3. What is the value of spam[int(int('3' * 2) / 11)]?"
   ]
  },
  {
   "cell_type": "code",
   "execution_count": 13,
   "id": "7f272207",
   "metadata": {},
   "outputs": [
    {
     "name": "stdout",
     "output_type": "stream",
     "text": [
      "d\n"
     ]
    }
   ],
   "source": [
    "# Ans:\n",
    "\n",
    "spam_var = ['a', 'b', 'c', 'd']\n",
    "\n",
    "spam = int(int('3' * 2) / 11)\n",
    "\n",
    "print(spam_var[spam])\n"
   ]
  },
  {
   "cell_type": "markdown",
   "id": "2227a605",
   "metadata": {},
   "source": [
    "### 4. What is the value of spam[-1]?"
   ]
  },
  {
   "cell_type": "markdown",
   "id": "73b16472",
   "metadata": {},
   "source": [
    "**Ans:**\n",
    "    \n",
    "spam1[-1] will give \"d\" as the result because we are using negative indexing. Negative indexing starts from -1, -2, -3, and so on. and \"d\" is the 1 st element from last. So we will get \"d\" as the result because we are using negative indexing."
   ]
  },
  {
   "cell_type": "code",
   "execution_count": 14,
   "id": "432ea29e",
   "metadata": {},
   "outputs": [
    {
     "data": {
      "text/plain": [
       "'d'"
      ]
     },
     "execution_count": 14,
     "metadata": {},
     "output_type": "execute_result"
    }
   ],
   "source": [
    "spam_var[-1]"
   ]
  },
  {
   "cell_type": "markdown",
   "id": "eb6d6cdd",
   "metadata": {},
   "source": [
    "### 5. What is the value of spam[:2]?"
   ]
  },
  {
   "cell_type": "markdown",
   "id": "71830eec",
   "metadata": {},
   "source": [
    "**Ans:**\n",
    "    \n",
    "spam1[:2] Here we are using slicing of list. list[start:end:step] is a format for slicing string, In spam1[:2] we are telling to stop at index 2, hence we get only first two elements of list."
   ]
  },
  {
   "cell_type": "code",
   "execution_count": 15,
   "id": "cf924753",
   "metadata": {},
   "outputs": [
    {
     "data": {
      "text/plain": [
       "['a', 'b']"
      ]
     },
     "execution_count": 15,
     "metadata": {},
     "output_type": "execute_result"
    }
   ],
   "source": [
    "spam_var[:2]"
   ]
  },
  {
   "cell_type": "markdown",
   "id": "95c34c65",
   "metadata": {},
   "source": [
    "## Let's pretend bacon has the list [3.14, 'cat,' 11, 'cat,' True] for the next three questions."
   ]
  },
  {
   "cell_type": "markdown",
   "id": "01509181",
   "metadata": {},
   "source": [
    "### 6. What is the value of bacon.index('cat')?"
   ]
  },
  {
   "cell_type": "code",
   "execution_count": 16,
   "id": "d3c153a0",
   "metadata": {},
   "outputs": [],
   "source": [
    "bacon = [3.14, 'cat', 11, 'cat', True]"
   ]
  },
  {
   "cell_type": "code",
   "execution_count": 17,
   "id": "fd2f7c42",
   "metadata": {},
   "outputs": [
    {
     "data": {
      "text/plain": [
       "1"
      ]
     },
     "execution_count": 17,
     "metadata": {},
     "output_type": "execute_result"
    }
   ],
   "source": [
    "# Ans: \n",
    "\n",
    "bacon.index('cat')"
   ]
  },
  {
   "cell_type": "markdown",
   "id": "5fd6b4f7",
   "metadata": {},
   "source": [
    "### 7. How does bacon.append(99) change the look of the list value in bacon?"
   ]
  },
  {
   "cell_type": "markdown",
   "id": "73e47762",
   "metadata": {},
   "source": [
    "**Ans:**\n",
    "    \n",
    "list.append(element) We can add additional elements to the list. \n",
    "\n",
    "bacon.append(99) will append the value 99 to the list bacon    "
   ]
  },
  {
   "cell_type": "code",
   "execution_count": 18,
   "id": "3020a8fc",
   "metadata": {},
   "outputs": [
    {
     "name": "stdout",
     "output_type": "stream",
     "text": [
      "[3.14, 'cat', 11, 'cat', True, 99]\n"
     ]
    }
   ],
   "source": [
    "bacon.append(99)\n",
    "print(bacon)"
   ]
  },
  {
   "cell_type": "markdown",
   "id": "6e9530cb",
   "metadata": {},
   "source": [
    "### 8. How does bacon.remove('cat') change the look of the list in bacon?"
   ]
  },
  {
   "cell_type": "code",
   "execution_count": 19,
   "id": "88c4c597",
   "metadata": {},
   "outputs": [
    {
     "name": "stdout",
     "output_type": "stream",
     "text": [
      "[3.14, 11, 'cat', True, 99]\n"
     ]
    }
   ],
   "source": [
    "# Ans:\n",
    "\n",
    "bacon.remove('cat')\n",
    "print(bacon)"
   ]
  },
  {
   "cell_type": "code",
   "execution_count": 20,
   "id": "998a0de6",
   "metadata": {},
   "outputs": [
    {
     "name": "stdout",
     "output_type": "stream",
     "text": [
      "[3.14, 11, True, 99]\n"
     ]
    }
   ],
   "source": [
    "bacon.remove('cat')\n",
    "print(bacon)"
   ]
  },
  {
   "cell_type": "code",
   "execution_count": 21,
   "id": "66323862",
   "metadata": {},
   "outputs": [
    {
     "ename": "ValueError",
     "evalue": "list.remove(x): x not in list",
     "output_type": "error",
     "traceback": [
      "\u001b[1;31m---------------------------------------------------------------------------\u001b[0m",
      "\u001b[1;31mValueError\u001b[0m                                Traceback (most recent call last)",
      "\u001b[1;32m~\\AppData\\Local\\Temp\\ipykernel_14248\\3884592728.py\u001b[0m in \u001b[0;36m<module>\u001b[1;34m\u001b[0m\n\u001b[1;32m----> 1\u001b[1;33m \u001b[0mbacon\u001b[0m\u001b[1;33m.\u001b[0m\u001b[0mremove\u001b[0m\u001b[1;33m(\u001b[0m\u001b[1;34m'cat'\u001b[0m\u001b[1;33m)\u001b[0m \u001b[1;31m# error because value is not present\u001b[0m\u001b[1;33m\u001b[0m\u001b[1;33m\u001b[0m\u001b[0m\n\u001b[0m\u001b[0;32m      2\u001b[0m \u001b[0mprint\u001b[0m\u001b[1;33m(\u001b[0m\u001b[0mbacon\u001b[0m\u001b[1;33m)\u001b[0m\u001b[1;33m\u001b[0m\u001b[1;33m\u001b[0m\u001b[0m\n",
      "\u001b[1;31mValueError\u001b[0m: list.remove(x): x not in list"
     ]
    }
   ],
   "source": [
    "bacon.remove('cat') # error because value is not present\n",
    "print(bacon)"
   ]
  },
  {
   "cell_type": "code",
   "execution_count": 32,
   "id": "7351ac0f",
   "metadata": {},
   "outputs": [],
   "source": [
    "#To avoid error\n",
    "if 'cat' in bacon:\n",
    "    bacon.remove('cat')\n"
   ]
  },
  {
   "cell_type": "markdown",
   "id": "11faa9d9",
   "metadata": {},
   "source": [
    "### 9. What are the list concatenation and list replication operators?"
   ]
  },
  {
   "cell_type": "markdown",
   "id": "136e72a9",
   "metadata": {},
   "source": [
    "**Ans:**\n",
    "    \n",
    "**1.** List Concatenation Operator:\n",
    "`+` we use addition sign as Concatenation operator for lists. When we concatenate two lists we get new list with elements of first list followed by elements of second list. Does not Modify Original list.\n",
    "\n"
   ]
  },
  {
   "cell_type": "code",
   "execution_count": 22,
   "id": "e267a884",
   "metadata": {},
   "outputs": [
    {
     "name": "stdout",
     "output_type": "stream",
     "text": [
      "[1, 2, 3, 4, 5, 6, 7, 8, 9, 10]\n"
     ]
    }
   ],
   "source": [
    "list1 = [1, 2, 3, 4, 5]\n",
    "list2 = [6, 7, 8, 9, 10]\n",
    "conc_list = list1 + list2\n",
    "print(conc_list)"
   ]
  },
  {
   "cell_type": "markdown",
   "id": "5f147864",
   "metadata": {},
   "source": [
    "**2.** List Replication Operator:\n",
    "`*` we use asterisk sign as Replication operator for lists. When we Replicate a list, we get new list with elements of an existing list a certain number of times. It creates a new list that contains multiple copies of the original list."
   ]
  },
  {
   "cell_type": "code",
   "execution_count": 23,
   "id": "5cfee9af",
   "metadata": {},
   "outputs": [
    {
     "name": "stdout",
     "output_type": "stream",
     "text": [
      "[1, 2, 3, 4, 5, 1, 2, 3, 4, 5, 1, 2, 3, 4, 5]\n"
     ]
    }
   ],
   "source": [
    "rep_list = list1 * 3\n",
    "print(rep_list)"
   ]
  },
  {
   "cell_type": "markdown",
   "id": "2e29bddb",
   "metadata": {},
   "source": [
    "### 10. What is difference between the list methods append() and insert()?"
   ]
  },
  {
   "cell_type": "markdown",
   "id": "0aaf5370",
   "metadata": {},
   "source": [
    "**Ans:**\n",
    "    \n",
    "`append()` and `insert()` are both methods to add elements to the list but they differ in how they add those elements.    \n",
    "\n",
    "`append()` - adds element at the end of list\n",
    "\n",
    "            takes one arg as (element)\n",
    "             \n",
    "`insert()` - adds element at given index\n",
    "\n",
    "            takes two arg as (index, element)"
   ]
  },
  {
   "cell_type": "code",
   "execution_count": 24,
   "id": "41b80e9b",
   "metadata": {},
   "outputs": [
    {
     "name": "stdout",
     "output_type": "stream",
     "text": [
      "[1, 2, 3, 'appended']\n",
      "------------------------------------------------\n",
      "[1, 2, 'inserted', 3, 'appended']\n"
     ]
    }
   ],
   "source": [
    "list3 = [1, 2, 3]\n",
    "list3.append(\"appended\")\n",
    "print(list3)\n",
    "\n",
    "print(\"------------------------------------------------\")\n",
    "\n",
    "list3.insert(2, \"inserted\")\n",
    "print(list3)"
   ]
  },
  {
   "cell_type": "markdown",
   "id": "804fc487",
   "metadata": {},
   "source": [
    "### 11. What are the two methods for removing items from a list?\n"
   ]
  },
  {
   "cell_type": "markdown",
   "id": "cc6086d0",
   "metadata": {},
   "source": [
    "**Ans:**\n",
    "    \n",
    "The `remove()` method removes the first item in the list that matches the value that you pass to it. For example, the following code will remove the item `'apple'` from the list fruits:"
   ]
  },
  {
   "cell_type": "code",
   "execution_count": 25,
   "id": "ae09c98e",
   "metadata": {},
   "outputs": [
    {
     "name": "stdout",
     "output_type": "stream",
     "text": [
      "['banana', 'cherry']\n"
     ]
    }
   ],
   "source": [
    "fruits = ['apple', 'banana', 'cherry']\n",
    "\n",
    "fruits.remove('apple')\n",
    "\n",
    "print(fruits)\n"
   ]
  },
  {
   "cell_type": "markdown",
   "id": "53266dfe",
   "metadata": {},
   "source": [
    "The `pop()` method removes the item at a specific index in the list. For example, the following code will remove the item at index 1 from the list `fruits`:"
   ]
  },
  {
   "cell_type": "code",
   "execution_count": 26,
   "id": "302f0693",
   "metadata": {},
   "outputs": [
    {
     "name": "stdout",
     "output_type": "stream",
     "text": [
      "['apple', 'cherry']\n"
     ]
    }
   ],
   "source": [
    "fruits = ['apple', 'banana', 'cherry']\n",
    "\n",
    "fruits.pop(1)\n",
    "\n",
    "print(fruits)\n"
   ]
  },
  {
   "cell_type": "markdown",
   "id": "6c152953",
   "metadata": {},
   "source": [
    "`pop()` - deletes last element by default,returns deleted element,raises IndexError when out of range\n",
    "\n",
    "`remove()` - deletes first occurrence of given element,does not return deleted element,raises ValueError when no match found for element"
   ]
  },
  {
   "cell_type": "markdown",
   "id": "9a31306f",
   "metadata": {},
   "source": [
    "### 12. Describe how list values and string values are identical.\n"
   ]
  },
  {
   "cell_type": "markdown",
   "id": "c6b21d39",
   "metadata": {},
   "source": [
    "**Ans:**\n",
    "    \n",
    "**Similarities:**\n",
    "\n",
    "slicing method:\n",
    "we can use slicing in both strings as well as in lists.\n",
    "\n",
    "Can be iterated over:\n",
    "we can use iterators in both strings as well as in lists. We can put them in for loop to iterate over.\n",
    "\n",
    "Indexing:\n",
    "We can use indexing in both strings as well as in lists to get specific value at specific index.\n",
    "\n",
    "Check equality:\n",
    "We can use check equality in both strings as well as in lists by using == operator."
   ]
  },
  {
   "cell_type": "markdown",
   "id": "07e65c20",
   "metadata": {},
   "source": [
    "### 13. What's the difference between tuples and lists?\n"
   ]
  },
  {
   "cell_type": "markdown",
   "id": "fbacf587",
   "metadata": {},
   "source": [
    "**Ans13:**\n",
    "    \n",
    "    \n",
    "tuples and lists are both iterable data structures in python which can be used to store data regardless of their type. but they are different in some ways."
   ]
  },
  {
   "cell_type": "markdown",
   "id": "0c1a76fb",
   "metadata": {},
   "source": [
    "**tuples:**\n",
    "\n",
    "    1.Tuples are immutable data structures.\n",
    "    2.We create tuples using parenthesis ().\n",
    "    3.Tuples can not be modified hence more lightweight and faster\n",
    "    4.Tuples are suitable when information is not required to change and for fast execution of the code. e.g. coordinates on the graph"
   ]
  },
  {
   "cell_type": "markdown",
   "id": "3d59a6ce",
   "metadata": {},
   "source": [
    "**lists:**\n",
    "\n",
    "    1.list are mutable data structures.\n",
    "    2.We create lists using [].\n",
    "    3.Lists can be modified means we can delete their element or add new elements.\n",
    "    4.Lists are use full where change in information is required. e.g list of shopping items"
   ]
  },
  {
   "cell_type": "markdown",
   "id": "60513b46",
   "metadata": {},
   "source": [
    "### 14. How do you type a tuple value that only contains the integer 42?\n"
   ]
  },
  {
   "cell_type": "markdown",
   "id": "fcbfdd28",
   "metadata": {},
   "source": [
    "**Ans:**\n",
    "    \n",
    "    to create single value tuple we need to give (comma = `,` ) after our element otherwise python will take it as int (for value 42)"
   ]
  },
  {
   "cell_type": "markdown",
   "id": "574fd224",
   "metadata": {},
   "source": [
    "### 15. How do you get a list value's tuple form? How do you get a tuple value's list form?\n"
   ]
  },
  {
   "cell_type": "markdown",
   "id": "056df7e4",
   "metadata": {},
   "source": [
    "**Ans:**\n",
    "    \n",
    "    By using type casting we can convert list into tuple or tuple into list."
   ]
  },
  {
   "cell_type": "code",
   "execution_count": 27,
   "id": "e6b89a7d",
   "metadata": {},
   "outputs": [
    {
     "name": "stdout",
     "output_type": "stream",
     "text": [
      "(1, 2, 3)\n",
      "<class 'tuple'>\n"
     ]
    }
   ],
   "source": [
    "my_list = [1, 2, 3]\n",
    "my_tuple = tuple(my_list)\n",
    "print(my_tuple)\n",
    "print(type(my_tuple))"
   ]
  },
  {
   "cell_type": "code",
   "execution_count": 28,
   "id": "77f9c047",
   "metadata": {},
   "outputs": [
    {
     "name": "stdout",
     "output_type": "stream",
     "text": [
      "['a', 'b', 'c']\n",
      "<class 'list'>\n"
     ]
    }
   ],
   "source": [
    "my_tuple1 = (\"a\", \"b\", \"c\")\n",
    "my_list1 = list(my_tuple1)\n",
    "print(my_list1)\n",
    "print(type(my_list1))"
   ]
  },
  {
   "cell_type": "markdown",
   "id": "30dc6d88",
   "metadata": {},
   "source": [
    "### 16. Variables that \"contain\" list values are not necessarily lists themselves. Instead, what do they contain?\n"
   ]
  },
  {
   "cell_type": "markdown",
   "id": "142990cd",
   "metadata": {},
   "source": [
    "**Ans16:**\n",
    "\n",
    "\n",
    "variables that \"contain\" list values are actually just references or pointers to the memory location where the list object is stored. When a list is assigned to a variable, the variable is actually pointing to the memory location where the list is stored in the computer's memory. This means that the variable is not the list itself, but a reference to the list."
   ]
  },
  {
   "cell_type": "markdown",
   "id": "baa406c1",
   "metadata": {},
   "source": [
    "### 17. How do you distinguish between copy.copy() and copy.deepcopy()?"
   ]
  },
  {
   "cell_type": "code",
   "execution_count": 29,
   "id": "dd9e4930",
   "metadata": {},
   "outputs": [
    {
     "name": "stdout",
     "output_type": "stream",
     "text": [
      "[1, 2, 3, 4, 5]\n"
     ]
    }
   ],
   "source": [
    "# **Ans:**\n",
    "\n",
    "\n",
    "import copy\n",
    "\n",
    "original_list = [1, 2, 3, 4, 5]\n",
    "new_list = copy.copy(original_list)\n",
    "\n",
    "new_list[2] = \"change is here\"\n",
    "\n",
    "print(original_list)  "
   ]
  },
  {
   "cell_type": "markdown",
   "id": "f2a33a67",
   "metadata": {},
   "source": [
    "`copy.copy()` creates a new object that references the same content as the original object, while copy.deepcopy() creates a new object with completely independent content from the original object. Which method you use will depend on the specific use case and whether you want changes to the new object to affect the original object or not.\n",
    "\n",
    "A shallow copy creates a new object, but it does not create new copies of the object's internal objects. Instead, it creates references to the internal objects of the original object. So, any changes made to the original object's internal objects will be reflected in the shallow copy."
   ]
  },
  {
   "cell_type": "code",
   "execution_count": 30,
   "id": "c5f10037",
   "metadata": {},
   "outputs": [
    {
     "name": "stdout",
     "output_type": "stream",
     "text": [
      "[['change is here', 2], [3, 4]]\n"
     ]
    }
   ],
   "source": [
    "import copy\n",
    "\n",
    "original_list = [[1, 2], [3, 4]]\n",
    "new_list = copy.copy(original_list)\n",
    "\n",
    "# modify the first element of the first sublist in the new list\n",
    "new_list[0][0] = 'change is here'\n",
    "\n",
    "# the change affects the original list too\n",
    "print(original_list)"
   ]
  },
  {
   "cell_type": "markdown",
   "id": "9024bada",
   "metadata": {},
   "source": [
    "On the other hand, a deep copy creates a new object, and it also creates new copies of the object's internal objects. Any changes made to the original object's internal objects will not be reflected in the deep copy."
   ]
  },
  {
   "cell_type": "code",
   "execution_count": 31,
   "id": "a1fcae35",
   "metadata": {},
   "outputs": [
    {
     "name": "stdout",
     "output_type": "stream",
     "text": [
      "[[1, 2], [3, 4]]\n"
     ]
    }
   ],
   "source": [
    "import copy\n",
    "\n",
    "original_list = [[1, 2], [3, 4]]\n",
    "new_list = copy.deepcopy(original_list)\n",
    "\n",
    "# modify the first element of the first sublist in the new list\n",
    "new_list[0][0] = 'change is here'\n",
    "\n",
    "\n",
    "# the change does not affect the original list\n",
    "print(original_list)  "
   ]
  }
 ],
 "metadata": {
  "kernelspec": {
   "display_name": "Python 3 (ipykernel)",
   "language": "python",
   "name": "python3"
  },
  "language_info": {
   "codemirror_mode": {
    "name": "ipython",
    "version": 3
   },
   "file_extension": ".py",
   "mimetype": "text/x-python",
   "name": "python",
   "nbconvert_exporter": "python",
   "pygments_lexer": "ipython3",
   "version": "3.9.13"
  }
 },
 "nbformat": 4,
 "nbformat_minor": 5
}
