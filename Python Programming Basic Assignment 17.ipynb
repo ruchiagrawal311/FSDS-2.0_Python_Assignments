{
 "cells": [
  {
   "cell_type": "markdown",
   "id": "ef71e7d7",
   "metadata": {},
   "source": [
    "# Question1. Create a function that takes three arguments a, b, c and returns the sum of the <br>\n",
    "numbers that are evenly divided by c from the range a, b inclusive. <br>\n",
    "Examples <br>\n",
    "evenly_divisible(1, 10, 20) ➞ 0 <br>\n",
    "# No number between 1 and 10 can be evenly divided by 20. <br>\n",
    "evenly_divisible(1, 10, 2) ➞ 30 <br>\n",
    "# 2 + 4 + 6 + 8 + 10 = 30 <br>\n",
    "evenly_divisible(1, 10, 3) ➞ 18 <br>\n",
    "# 3 + 6 + 9 = 18 <br>"
   ]
  },
  {
   "cell_type": "code",
   "execution_count": 1,
   "id": "9e7414c3",
   "metadata": {},
   "outputs": [
    {
     "name": "stdout",
     "output_type": "stream",
     "text": [
      "(1, 10, 20) ➞ 0\n",
      "(1, 10, 2) ➞ 30\n",
      "(1, 10, 3) ➞ 18\n"
     ]
    }
   ],
   "source": [
    "def evenDivisible(a,b,c):\n",
    "    divList = []\n",
    "    for num in range(a,b+1):\n",
    "        if num%c == 0:\n",
    "            divList.append(num)\n",
    "    print(f'{a,b,c} ➞ {sum(divList)}')\n",
    "\n",
    "evenDivisible(1,10,20)\n",
    "evenDivisible(1,10,2)\n",
    "evenDivisible(1,10,3)"
   ]
  },
  {
   "cell_type": "markdown",
   "id": "a63f6b25",
   "metadata": {},
   "source": [
    "# Question2. Create a function that returns True if a given inequality expression is correct and <br>\n",
    "False otherwise. <br>\n",
    "Examples <br>\n",
    "correct_signs(&quot;3 &lt; 7 &lt; 11&quot;) ➞ True <br>\n",
    "correct_signs(&quot;13 &gt; 44 &gt; 33 &gt; 1&quot;) ➞ False <br>\n",
    "correct_signs(&quot;1 &lt; 2 &lt; 6 &lt; 9 &gt; 3&quot;) ➞ True <br>"
   ]
  },
  {
   "cell_type": "code",
   "execution_count": 2,
   "id": "5a28680b",
   "metadata": {},
   "outputs": [
    {
     "name": "stdout",
     "output_type": "stream",
     "text": [
      "Enter the inequality: 3 < 7 < 11\n",
      "3 < 7 < 11 ➞ True\n",
      "Enter the inequality: 13 > 44 > 33 > 1\n",
      "13 > 44 > 33 > 1 ➞ False\n",
      "Enter the inequality: 1 < 2 < 6 < 9 > 3\n",
      "1 < 2 < 6 < 9 > 3 ➞ True\n"
     ]
    }
   ],
   "source": [
    "def checkEquality():\n",
    "    in_string = input('Enter the inequality: ')\n",
    "    out_bool = eval(in_string)\n",
    "    print(f'{in_string} ➞ {out_bool}')\n",
    "\n",
    "for x in range(3):\n",
    "    checkEquality()"
   ]
  },
  {
   "cell_type": "markdown",
   "id": "a4650603",
   "metadata": {},
   "source": [
    "# Question3. Create a function that replaces all the vowels in a string with a specified character. <br>\n",
    "Examples <br>\n",
    "replace_vowels(&quot;the aardvark&quot;, &quot;#&quot;) ➞ &quot;th# ##rdv#rk&quot; <br>\n",
    "replace_vowels(&quot;minnie mouse&quot;, &quot;?&quot;) ➞ &quot;m?nn?? m??s?&quot; <br>\n",
    "replace_vowels(&quot;shakespeare&quot;, &quot;*&quot;) ➞ &quot;sh*k*sp**r*&quot; <br>"
   ]
  },
  {
   "cell_type": "code",
   "execution_count": 3,
   "id": "aa5115f9",
   "metadata": {},
   "outputs": [
    {
     "name": "stdout",
     "output_type": "stream",
     "text": [
      "String: \"the aardvark\", \"#\"\n",
      "Replacement character: #\n",
      "\"the aardvark\", \"#\" # ➞ \"th# ##rdv#rk\", \"#\"\n",
      "String: minnie mouse\n",
      "Replacement character: ?\n",
      "minnie mouse ? ➞ m?nn?? m??s?\n",
      "String: shakespeare\n",
      "Replacement character: \n",
      "shakespeare  ➞ shkspr\n"
     ]
    }
   ],
   "source": [
    "def replaceVowels():\n",
    "    vowels = ['a','e','i','o','u','A','E','I','O','U']\n",
    "    in_string = input(\"String: \")\n",
    "    in_string_copy = in_string\n",
    "    in_char = input('Replacement character: ')\n",
    "    for ele in in_string:\n",
    "        if ele in vowels:\n",
    "            in_string = in_string.replace(ele,in_char)\n",
    "    print(f'{in_string_copy} {in_char} ➞ {in_string}')\n",
    "            \n",
    "for x in range(3):\n",
    "    replaceVowels()"
   ]
  },
  {
   "cell_type": "markdown",
   "id": "f3336422",
   "metadata": {},
   "source": [
    "# Question4. Write a function that calculates the factorial of a number recursively. <br>\n",
    "Examples <br>\n",
    "factorial(5) ➞ 120 <br>\n",
    "factorial(3) ➞ 6 <br>\n",
    "factorial(1) ➞ 1 <br>\n",
    "factorial(0) ➞ 1 <br>"
   ]
  },
  {
   "cell_type": "code",
   "execution_count": 4,
   "id": "c2962ce7",
   "metadata": {},
   "outputs": [
    {
     "name": "stdout",
     "output_type": "stream",
     "text": [
      "factorial(5) ➞ 120\n",
      "factorial(3) ➞ 6\n",
      "factorial(1) ➞ 1\n",
      "factorial(0) ➞ 1\n"
     ]
    }
   ],
   "source": [
    "def factorial(n):\n",
    "    if n==0:\n",
    "        return 1\n",
    "    return n * factorial(n-1)\n",
    "\n",
    "print(f'factorial(5) ➞ {factorial(5)}')\n",
    "print(f'factorial(3) ➞ {factorial(3)}')\n",
    "print(f'factorial(1) ➞ {factorial(1)}')\n",
    "print(f'factorial(0) ➞ {factorial(0)}')"
   ]
  },
  {
   "cell_type": "markdown",
   "id": "7606cd6b",
   "metadata": {},
   "source": [
    "# Question 5 <br>\n",
    "Hamming distance is the number of characters that differ between two strings. <br>\n",
    "To illustrate: <br>\n",
    "String1: &quot;abcbba&quot; <br>\n",
    "String2: &quot;abcbda&quot; <br>\n",
    "Hamming Distance: 1 - &quot;b&quot; vs. &quot;d&quot; is the only difference. <br>\n",
    "Create a function that computes the hamming distance between two strings. <br>\n",
    "Examples <br>\n",
    "hamming_distance(&quot;abcde&quot;, &quot;bcdef&quot;) ➞ 5 <br>\n",
    "hamming_distance(&quot;abcde&quot;, &quot;abcde&quot;) ➞ 0 <br>\n",
    "hamming_distance(&quot;strong&quot;, &quot;strung&quot;) ➞ 1 <br>"
   ]
  },
  {
   "cell_type": "code",
   "execution_count": 5,
   "id": "736544e8",
   "metadata": {},
   "outputs": [
    {
     "name": "stdout",
     "output_type": "stream",
     "text": [
      "Enter the String_1: abcde\n",
      "Enter the String_2: bcdef\n",
      "Hamning Distance b/w abcde and bcdef ➞ 5\n",
      "Enter the String_1: abcde\n",
      "Enter the String_2: abcde\n",
      "Hamning Distance b/w abcde and abcde ➞ 0\n",
      "Enter the String_1: strong\n",
      "Enter the String_2: strung\n",
      "Hamning Distance b/w strong and strung ➞ 1\n"
     ]
    }
   ],
   "source": [
    "def genHamDistance():\n",
    "    in_string_1 = input('Enter the String_1: ')\n",
    "    in_string_2 = input('Enter the String_2: ')\n",
    "    if len(in_string_1) == len(in_string_2):\n",
    "        count = 0\n",
    "        for i in range(len(in_string_1)):\n",
    "            if in_string_1[i] != in_string_2[i]:\n",
    "                count = count+1\n",
    "        print(f'Hamning Distance b/w {in_string_1} and {in_string_2} ➞ {count}')\n",
    "    else:\n",
    "        print('Both Strings Must be of Same Length')\n",
    "\n",
    "for x in range(3):\n",
    "    genHamDistance()"
   ]
  }
 ],
 "metadata": {
  "kernelspec": {
   "display_name": "Python 3 (ipykernel)",
   "language": "python",
   "name": "python3"
  },
  "language_info": {
   "codemirror_mode": {
    "name": "ipython",
    "version": 3
   },
   "file_extension": ".py",
   "mimetype": "text/x-python",
   "name": "python",
   "nbconvert_exporter": "python",
   "pygments_lexer": "ipython3",
   "version": "3.9.13"
  }
 },
 "nbformat": 4,
 "nbformat_minor": 5
}
